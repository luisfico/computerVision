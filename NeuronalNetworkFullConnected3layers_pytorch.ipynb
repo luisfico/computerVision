{
  "cells": [
    {
      "cell_type": "markdown",
      "metadata": {
        "id": "view-in-github",
        "colab_type": "text"
      },
      "source": [
        "<a href=\"https://colab.research.google.com/github/luisfico/computerVision/blob/main/NeuronalNetworkFullConnected3layers_pytorch.ipynb\" target=\"_parent\"><img src=\"https://colab.research.google.com/assets/colab-badge.svg\" alt=\"Open In Colab\"/></a>"
      ]
    },
    {
      "cell_type": "markdown",
      "metadata": {
        "id": "N2iSWVA_DtWO"
      },
      "source": [
        "# Fundamentos de Deep Learning con PyTorch"
      ]
    },
    {
      "cell_type": "markdown",
      "source": [
        "Basado en :   https://www.youtube.com/watch?v=XtLpw3SFrz4&list=PLWzLQn_hxe6ZlC9-YMt3nN0Eo-ZpOJuXd&index=8\n",
        "\n",
        "https://github.com/JACantoral/DL_fundamentals/blob/main/firstNotebook_workshop.ipynb\n",
        "\n",
        "\n",
        "Se asumira: que se tendran 70 000 imagenes : \n",
        "- **55 000** para entrenar (**loader_train**)  dataset labelizado\n",
        "- **5 000** para evaluar/validar el entrenamiento (**loader_val**)  dataset labelizado\n",
        "- **10 000** para nuevos tests     (**loader_test**)  dataset no necesariamente labelizado\n"
      ],
      "metadata": {
        "id": "2qXpFyZkJhJX"
      }
    },
    {
      "cell_type": "markdown",
      "metadata": {
        "id": "oU7t5WcwDtWR"
      },
      "source": [
        "## MNIST"
      ]
    },
    {
      "cell_type": "code",
      "source": [
        ""
      ],
      "metadata": {
        "id": "XytDXwc3J4jg"
      },
      "execution_count": null,
      "outputs": []
    },
    {
      "cell_type": "markdown",
      "metadata": {
        "id": "nTgLqo2ADtWR"
      },
      "source": [
        "<img src=\"https://github.com/luisfico/computerVision/blob/main/mnist.png?raw=1\">"
      ]
    },
    {
      "cell_type": "code",
      "execution_count": 3,
      "metadata": {
        "id": "7znWW-e8DtWS"
      },
      "outputs": [],
      "source": [
        "## Solo para probar el modelo ya entrenado, si se trata de ejecutar al inicio marcará error\n",
        "# image=sample_number()\n",
        "# _, class_is = loaded_model(image).max(1)\n",
        "# print(f'The predicted class is: {class_is[0]}')"
      ]
    },
    {
      "cell_type": "code",
      "execution_count": 3,
      "metadata": {
        "id": "Tpt94oo_DtWV"
      },
      "outputs": [],
      "source": [
        ""
      ]
    },
    {
      "cell_type": "code",
      "execution_count": 3,
      "metadata": {
        "id": "Y7_RTZHgDtWV"
      },
      "outputs": [],
      "source": [
        ""
      ]
    },
    {
      "cell_type": "markdown",
      "metadata": {
        "id": "XKIX7PhJDtWV"
      },
      "source": [
        "## Importar librerías"
      ]
    },
    {
      "cell_type": "code",
      "execution_count": 4,
      "metadata": {
        "id": "V1ObQNB3DtWW"
      },
      "outputs": [],
      "source": [
        "# Para graficar\n",
        "import numpy as np\n",
        "import matplotlib.pyplot as plt\n",
        "%matplotlib inline\n",
        "# Las principales de PyTorch\n",
        "import torch\n",
        "import torch.nn as nn            #neural network\n",
        "import torch.nn.functional as F  #other functions for neural network\n",
        "# Otras más de PyTorch\n",
        "from torch.utils.data import DataLoader #Para dividir nuestros datos\n",
        "from torch.utils.data import sampler # Para muestrar datos\n",
        "import torchvision.datasets as dataset # Para importar DataSets\n",
        "import torchvision.transforms as T # Para aplicar transformaciones a nuestros datos, data augmentation\n",
        "# No es importante, sólo si tienen Jupyter Themes. Nothing to do with Deep Learning\n",
        "#from jupyterthemes import jtplot\n",
        "#jtplot.style()\n",
        "\n",
        "\n",
        "    "
      ]
    },
    {
      "cell_type": "markdown",
      "metadata": {
        "id": "Nl4lgEsxDtWW"
      },
      "source": [
        "## Importar MNIST Dataset"
      ]
    },
    {
      "cell_type": "markdown",
      "source": [
        "En el ejm anterior el minibatche era de 3 imagenes (perro,gato,ave)\n",
        "\n",
        "Quiere decir que en este minibatch hay 512 clases de objetos? NO\n",
        "En este dataset hay 10 clases(los numeros del 0 al 9)\n",
        "Osea el minibatch contine 512 imagenes de  numeros del 0 al 9  "
      ],
      "metadata": {
        "id": "l3BhX5p5a4TA"
      }
    },
    {
      "cell_type": "code",
      "execution_count": 5,
      "metadata": {
        "id": "lNy3cpuNDtWX",
        "colab": {
          "base_uri": "https://localhost:8080/",
          "height": 443,
          "referenced_widgets": [
            "d3f0c508ad974eb69f0cb1cd7a420cea",
            "8655c2f1a41f4cd3a82e15bbfe306d40",
            "643a35e576e64c2e964880aa9a1ecbaa",
            "1a35e9191daa4ce3ae801c41d1fa15a5",
            "e56bb2f97bf7487b8bbe8763e2b4bfe7",
            "14181bb66c3c45b6add63694ece0681b",
            "f5855bb145f44666b492f11f433bf154",
            "1978162ffbfa44d597fe304ced33620d",
            "3da7817240f442318070c322f97bd733",
            "df7367d4ddf74eed9f2ed656cca758b9",
            "2d677cf2ae8d4ec3b607910d1d1627d3",
            "d09ae1785c154f21adecc43faa85e3b5",
            "ae20478553434586867fd9c1cfa9ca66",
            "c9ae8e4a8cd644b79440866db44c2346",
            "4a6851ff499a4b3c92241b6668313bb9",
            "708ccdbe2b704ff2b4f9107c40c4d873",
            "0e550602b54c4292ae5b77ad7d756cad",
            "f7b395d8581f45119c667155c8f4cf65",
            "0a5f21d363814a6faa068a2ba113f13f",
            "8e004ac2b4aa496ba7fc0e502643b724",
            "33eb123323c2458ca100c333847ec63f",
            "411769fa9dbd4a3d90613e2a636bd500",
            "c7fc55df3b61461bad74d14ee5d55766",
            "aed69ca9311d41bb9fac563f01a82b9f",
            "0b518b81374d4a25996b306555a04c51",
            "c2aa4259730844fd88bb954fde63029f",
            "6eace5062d2047d683590ee5c4afc254",
            "1c2feb5b5647429287970d9338dae207",
            "feecd04f16234a28bfd7a6aeb4a81da3",
            "54750b1fcd634490a183ea7cc2565058",
            "96082f76150841b8b13af968e11eff05",
            "8d43006a6fcf4611a40853aba9513d06",
            "a5c6ac30a0bd4d5f88b6154ea4b95127",
            "42ba89b5c5f0490f81b4fc3a9ad91c1f",
            "b7c3f555000e4005ae6ac4f0a3e1b631",
            "0499561b25c44c1f99336f2933be1e3c",
            "53a5a2c4682c4f8f9bf90b2a559426d6",
            "d7b08f740cf5465c8471c4c1efa2e80c",
            "c79fd7acf83641f986313cf77c10d8c1",
            "34da03ed26414177adb39812599c6950",
            "146579730b9a476bb265fa24fd90758c",
            "ce2f2fb0d1564a2fbec6ffa4f9d41ea2",
            "ff354f58f3c7471c89456a88a1f43b7b",
            "2b03b60323c840ef8d416cd77278ad78"
          ]
        },
        "outputId": "a81272e2-86b5-4b52-a023-e8672f36f8ba"
      },
      "outputs": [
        {
          "output_type": "stream",
          "name": "stdout",
          "text": [
            "Downloading http://yann.lecun.com/exdb/mnist/train-images-idx3-ubyte.gz\n",
            "Downloading http://yann.lecun.com/exdb/mnist/train-images-idx3-ubyte.gz to /media/josh/MyData/Databases/mnist/MNIST/raw/train-images-idx3-ubyte.gz\n"
          ]
        },
        {
          "output_type": "display_data",
          "data": {
            "application/vnd.jupyter.widget-view+json": {
              "model_id": "d3f0c508ad974eb69f0cb1cd7a420cea",
              "version_minor": 0,
              "version_major": 2
            },
            "text/plain": [
              "  0%|          | 0/9912422 [00:00<?, ?it/s]"
            ]
          },
          "metadata": {}
        },
        {
          "output_type": "stream",
          "name": "stdout",
          "text": [
            "Extracting /media/josh/MyData/Databases/mnist/MNIST/raw/train-images-idx3-ubyte.gz to /media/josh/MyData/Databases/mnist/MNIST/raw\n",
            "\n",
            "Downloading http://yann.lecun.com/exdb/mnist/train-labels-idx1-ubyte.gz\n",
            "Downloading http://yann.lecun.com/exdb/mnist/train-labels-idx1-ubyte.gz to /media/josh/MyData/Databases/mnist/MNIST/raw/train-labels-idx1-ubyte.gz\n"
          ]
        },
        {
          "output_type": "display_data",
          "data": {
            "application/vnd.jupyter.widget-view+json": {
              "model_id": "d09ae1785c154f21adecc43faa85e3b5",
              "version_minor": 0,
              "version_major": 2
            },
            "text/plain": [
              "  0%|          | 0/28881 [00:00<?, ?it/s]"
            ]
          },
          "metadata": {}
        },
        {
          "output_type": "stream",
          "name": "stdout",
          "text": [
            "Extracting /media/josh/MyData/Databases/mnist/MNIST/raw/train-labels-idx1-ubyte.gz to /media/josh/MyData/Databases/mnist/MNIST/raw\n",
            "\n",
            "Downloading http://yann.lecun.com/exdb/mnist/t10k-images-idx3-ubyte.gz\n",
            "Downloading http://yann.lecun.com/exdb/mnist/t10k-images-idx3-ubyte.gz to /media/josh/MyData/Databases/mnist/MNIST/raw/t10k-images-idx3-ubyte.gz\n"
          ]
        },
        {
          "output_type": "display_data",
          "data": {
            "application/vnd.jupyter.widget-view+json": {
              "model_id": "c7fc55df3b61461bad74d14ee5d55766",
              "version_minor": 0,
              "version_major": 2
            },
            "text/plain": [
              "  0%|          | 0/1648877 [00:00<?, ?it/s]"
            ]
          },
          "metadata": {}
        },
        {
          "output_type": "stream",
          "name": "stdout",
          "text": [
            "Extracting /media/josh/MyData/Databases/mnist/MNIST/raw/t10k-images-idx3-ubyte.gz to /media/josh/MyData/Databases/mnist/MNIST/raw\n",
            "\n",
            "Downloading http://yann.lecun.com/exdb/mnist/t10k-labels-idx1-ubyte.gz\n",
            "Downloading http://yann.lecun.com/exdb/mnist/t10k-labels-idx1-ubyte.gz to /media/josh/MyData/Databases/mnist/MNIST/raw/t10k-labels-idx1-ubyte.gz\n"
          ]
        },
        {
          "output_type": "display_data",
          "data": {
            "application/vnd.jupyter.widget-view+json": {
              "model_id": "42ba89b5c5f0490f81b4fc3a9ad91c1f",
              "version_minor": 0,
              "version_major": 2
            },
            "text/plain": [
              "  0%|          | 0/4542 [00:00<?, ?it/s]"
            ]
          },
          "metadata": {}
        },
        {
          "output_type": "stream",
          "name": "stdout",
          "text": [
            "Extracting /media/josh/MyData/Databases/mnist/MNIST/raw/t10k-labels-idx1-ubyte.gz to /media/josh/MyData/Databases/mnist/MNIST/raw\n",
            "\n"
          ]
        }
      ],
      "source": [
        "NUM_TRAIN = 55000   #se usara esa cantidad para entrenar la red, aleatorios en el dataset, en total son 70 000 imagenes\n",
        "#70 000 imagenes : 55 000 para entrenar ,  5 000 para evaluar y el resto 10 000 para nuevos tests (son imagenes nuevas) \n",
        "BATCH_SIZE = 512    #La red neuronal recibira un minugrupo o minibatch de imagens en cada iteracion\n",
        "#Se acostumbra que cada minigrupo debe tener aprox 2^n   grupo de imagenes (ejm 512 imagenes por cada grupo)\n",
        "\n",
        "\n",
        "# Get our training, validation and test data.\n",
        "# data_path = '/media/josh/MyData/Databases/' #use your own data path, you may use an existing data path to avoid having to download the data again.\n",
        "data_path = '/media/josh/MyData/Databases/mnist'\n",
        "#55 000 para entrenar\n",
        "mnist_train = dataset.MNIST(data_path, train=True, download=True,\n",
        "                             transform=T.ToTensor()) #convierte imagen to formato matriz de tensor(arreglo multidimensional IA)\n",
        "loader_train = DataLoader(mnist_train, batch_size=BATCH_SIZE, \n",
        "                          sampler=sampler.SubsetRandomSampler(range(NUM_TRAIN))) #se usara esa cantidad para entrenar la red,   NUM_TRAIN aletorios\n",
        "#5 000 para evaluar (y talves para que la red neuronal reaprenda)\n",
        "mnist_val = dataset.MNIST(data_path, train=True, download=True,\n",
        "                           transform=T.ToTensor())\n",
        "loader_val = DataLoader(mnist_val, batch_size=BATCH_SIZE, \n",
        "                        sampler=sampler.SubsetRandomSampler(range(NUM_TRAIN, 60000))) # 5 000 para evaluar\n",
        "\n",
        "#10 000 para nuevos tests ?    \n",
        "mnist_test = dataset.MNIST(data_path, train=False, download=True, \n",
        "                            transform=T.ToTensor())\n",
        "loader_test = DataLoader(mnist_test, batch_size=BATCH_SIZE)\n"
      ]
    },
    {
      "cell_type": "markdown",
      "metadata": {
        "id": "8D-YR7GGDtWX"
      },
      "source": [
        "### Cómo usar un DataLoader? INSPCCIONAMOS EL DATASET!\n",
        "\n",
        "Un [DataLoader](https://pytorch.org/docs/stable/data.html) de PyTorch es un objeto Iterable de Python, sobre nuestro Dataset!\n",
        "\n"
      ]
    },
    {
      "cell_type": "code",
      "execution_count": 6,
      "metadata": {
        "colab": {
          "base_uri": "https://localhost:8080/"
        },
        "id": "nKjXnciCDtWY",
        "outputId": "533160ae-1a27-4983-ef78-9056242ce6b5"
      },
      "outputs": [
        {
          "output_type": "stream",
          "name": "stdout",
          "text": [
            "torch.Size([10000])\n",
            "torch.Size([10000, 28, 28])\n"
          ]
        }
      ],
      "source": [
        "y_test=loader_test.dataset.targets #son los resultados esperados de las 10 000 imagenes     para verificar si acerto  con ese nuevo grupo de imagenes\n",
        "x_test=loader_test.dataset.data #son las 10 000 imagenes de 28x28 para hacer los nuevos test, una vez que la red ya ha sido entrenada\n",
        "print(y_test.shape)\n",
        "print(x_test.shape)"
      ]
    },
    {
      "cell_type": "code",
      "execution_count": 7,
      "metadata": {
        "colab": {
          "base_uri": "https://localhost:8080/"
        },
        "id": "F_2JFZsoDtWZ",
        "outputId": "b19f7991-9462-4c85-89af-846ab9417f22"
      },
      "outputs": [
        {
          "output_type": "stream",
          "name": "stdout",
          "text": [
            "0 X.shape is torch.Size([512, 1, 28, 28]), y.shape is torch.Size([512])\n",
            "1 X.shape is torch.Size([512, 1, 28, 28]), y.shape is torch.Size([512])\n",
            "2 X.shape is torch.Size([512, 1, 28, 28]), y.shape is torch.Size([512])\n",
            "3 X.shape is torch.Size([512, 1, 28, 28]), y.shape is torch.Size([512])\n",
            "4 X.shape is torch.Size([512, 1, 28, 28]), y.shape is torch.Size([512])\n",
            "5 X.shape is torch.Size([512, 1, 28, 28]), y.shape is torch.Size([512])\n",
            "6 X.shape is torch.Size([512, 1, 28, 28]), y.shape is torch.Size([512])\n",
            "7 X.shape is torch.Size([512, 1, 28, 28]), y.shape is torch.Size([512])\n",
            "8 X.shape is torch.Size([512, 1, 28, 28]), y.shape is torch.Size([512])\n",
            "9 X.shape is torch.Size([512, 1, 28, 28]), y.shape is torch.Size([512])\n",
            "10 X.shape is torch.Size([512, 1, 28, 28]), y.shape is torch.Size([512])\n",
            "11 X.shape is torch.Size([512, 1, 28, 28]), y.shape is torch.Size([512])\n",
            "12 X.shape is torch.Size([512, 1, 28, 28]), y.shape is torch.Size([512])\n",
            "13 X.shape is torch.Size([512, 1, 28, 28]), y.shape is torch.Size([512])\n",
            "14 X.shape is torch.Size([512, 1, 28, 28]), y.shape is torch.Size([512])\n",
            "15 X.shape is torch.Size([512, 1, 28, 28]), y.shape is torch.Size([512])\n",
            "16 X.shape is torch.Size([512, 1, 28, 28]), y.shape is torch.Size([512])\n",
            "17 X.shape is torch.Size([512, 1, 28, 28]), y.shape is torch.Size([512])\n",
            "18 X.shape is torch.Size([512, 1, 28, 28]), y.shape is torch.Size([512])\n",
            "19 X.shape is torch.Size([272, 1, 28, 28]), y.shape is torch.Size([272])\n"
          ]
        }
      ],
      "source": [
        "for it, (x, y) in enumerate(loader_test): #verificamos el dataset de test estara separado en minibatches de 512 imagenes, en total son casi 20 grupos\n",
        "    print(f'{it} X.shape is {x.shape}, y.shape is {y.shape}')\n",
        "#check: 10 000= 512x19+272"
      ]
    },
    {
      "cell_type": "code",
      "execution_count": 8,
      "metadata": {
        "id": "-cnw7Wb1DtWZ",
        "colab": {
          "base_uri": "https://localhost:8080/"
        },
        "outputId": "833fd555-0a52-4f08-ce01-635e1cbb4e4b"
      },
      "outputs": [
        {
          "output_type": "execute_result",
          "data": {
            "text/plain": [
              "784"
            ]
          },
          "metadata": {},
          "execution_count": 8
        }
      ],
      "source": [
        "#Se transforma las matrices 28x28 de imagenes x_test   a  arreglos unidimensionales de 784x1 para que el valor de cada pixel pueda entra en la red   \n",
        "#28x28=784\n",
        "input_features = len(torch.flatten(x_test[0]))\n",
        "input_features"
      ]
    },
    {
      "cell_type": "code",
      "execution_count": 9,
      "metadata": {
        "id": "QVzWup9zDtWZ"
      },
      "outputs": [],
      "source": [
        "def plot_number(image):\n",
        "    #jtplot.style(grid=False)\n",
        "    plt.imshow(image.squeeze(), cmap=plt.get_cmap('gray'))\n",
        "    plt.show()\n",
        "    plt.axis('off')\n",
        "    #jtplot.style(grid=True)"
      ]
    },
    {
      "cell_type": "code",
      "execution_count": 10,
      "metadata": {
        "id": "ZsVnmE32DtWa",
        "colab": {
          "base_uri": "https://localhost:8080/",
          "height": 1000
        },
        "outputId": "53be8391-74c9-4df7-de5a-848984293f8b"
      },
      "outputs": [
        {
          "output_type": "display_data",
          "data": {
            "image/png": "[encoded data removed]",
            "text/plain": [
              "<Figure size 1080x1080 with 1 Axes>"
            ]
          },
          "metadata": {
            "needs_background": "light"
          }
        },
        {
          "output_type": "display_data",
          "data": {
            "image/png": "[encoded data removed]",
            "text/plain": [
              "<Figure size 1080x1080 with 1 Axes>"
            ]
          },
          "metadata": {
            "needs_background": "light"
          }
        },
        {
          "output_type": "display_data",
          "data": {
            "image/png": "[encoded data removed]",
            "text/plain": [
              "<Figure size 1080x1080 with 1 Axes>"
            ]
          },
          "metadata": {
            "needs_background": "light"
          }
        },
        {
          "output_type": "display_data",
          "data": {
            "image/png": "[encoded data removed]",
            "text/plain": [
              "<Figure size 1080x1080 with 1 Axes>"
            ]
          },
          "metadata": {
            "needs_background": "light"
          }
        },
        {
          "output_type": "display_data",
          "data": {
            "image/png": "[encoded data removed]",
            "text/plain": [
              "<Figure size 1080x1080 with 1 Axes>"
            ]
          },
          "metadata": {
            "needs_background": "light"
          }
        },
        {
          "output_type": "display_data",
          "data": {
            "image/png": "[encoded data removed]",
            "text/plain": [
              "<Figure size 1080x1080 with 1 Axes>"
            ]
          },
          "metadata": {
            "needs_background": "light"
          }
        },
        {
          "output_type": "display_data",
          "data": {
            "image/png": "[encoded data removed]",
            "text/plain": [
              "<Figure size 1080x1080 with 1 Axes>"
            ]
          },
          "metadata": {
            "needs_background": "light"
          }
        },
        {
          "output_type": "display_data",
          "data": {
            "image/png": "[encoded data removed]",
            "text/plain": [
              "<Figure size 1080x1080 with 1 Axes>"
            ]
          },
          "metadata": {
            "needs_background": "light"
          }
        },
        {
          "output_type": "display_data",
          "data": {
            "image/png": "[encoded data removed]",
            "text/plain": [
              "<Figure size 1080x1080 with 1 Axes>"
            ]
          },
          "metadata": {
            "needs_background": "light"
          }
        },
        {
          "output_type": "display_data",
          "data": {
            "image/png": "[encoded data removed]",
            "text/plain": [
              "<Figure size 1080x1080 with 1 Axes>"
            ]
          },
          "metadata": {
            "needs_background": "light"
          }
        },
        {
          "output_type": "display_data",
          "data": {
            "image/png": "[encoded data removed]",
            "text/plain": [
              "<Figure size 1080x1080 with 1 Axes>"
            ]
          },
          "metadata": {
            "needs_background": "light"
          }
        },
        {
          "output_type": "display_data",
          "data": {
            "image/png": "[encoded data removed]",
            "text/plain": [
              "<Figure size 1080x1080 with 1 Axes>"
            ]
          },
          "metadata": {
            "needs_background": "light"
          }
        },
        {
          "output_type": "display_data",
          "data": {
            "image/png": "[encoded data removed]",
            "text/plain": [
              "<Figure size 1080x1080 with 1 Axes>"
            ]
          },
          "metadata": {
            "needs_background": "light"
          }
        },
        {
          "output_type": "display_data",
          "data": {
            "image/png": "[encoded data removed]",
            "text/plain": [
              "<Figure size 1080x1080 with 1 Axes>"
            ]
          },
          "metadata": {
            "needs_background": "light"
          }
        },
        {
          "output_type": "display_data",
          "data": {
            "image/png": "[encoded data removed]",
            "text/plain": [
              "<Figure size 1080x1080 with 1 Axes>"
            ]
          },
          "metadata": {
            "needs_background": "light"
          }
        },
        {
          "output_type": "display_data",
          "data": {
            "image/png": "[encoded data removed]",
            "text/plain": [
              "<Figure size 1080x1080 with 1 Axes>"
            ]
          },
          "metadata": {
            "needs_background": "light"
          }
        },
        {
          "output_type": "display_data",
          "data": {
            "image/png": "[encoded data removed]",
            "text/plain": [
              "<Figure size 1080x1080 with 1 Axes>"
            ]
          },
          "metadata": {
            "needs_background": "light"
          }
        },
        {
          "output_type": "display_data",
          "data": {
            "image/png": "[encoded data removed]",
            "text/plain": [
              "<Figure size 1080x1080 with 1 Axes>"
            ]
          },
          "metadata": {
            "needs_background": "light"
          }
        },
        {
          "output_type": "display_data",
          "data": {
            "image/png": "[encoded data removed]",
            "text/plain": [
              "<Figure size 1080x1080 with 1 Axes>"
            ]
          },
          "metadata": {
            "needs_background": "light"
          }
        },
        {
          "output_type": "display_data",
          "data": {
            "image/png": "[encoded data removed]",
            "text/plain": [
              "<Figure size 1080x1080 with 1 Axes>"
            ]
          },
          "metadata": {
            "needs_background": "light"
          }
        },
        {
          "output_type": "display_data",
          "data": {
            "image/png": "[encoded data removed]",
            "text/plain": [
              "<Figure size 1080x1080 with 1 Axes>"
            ]
          },
          "metadata": {
            "needs_background": "light"
          }
        },
        {
          "output_type": "display_data",
          "data": {
            "image/png": "[encoded data removed]",
            "text/plain": [
              "<Figure size 1080x1080 with 1 Axes>"
            ]
          },
          "metadata": {
            "needs_background": "light"
          }
        },
        {
          "output_type": "display_data",
          "data": {
            "image/png": "[encoded data removed]",
            "text/plain": [
              "<Figure size 1080x1080 with 1 Axes>"
            ]
          },
          "metadata": {
            "needs_background": "light"
          }
        },
        {
          "output_type": "display_data",
          "data": {
            "image/png": "[encoded data removed]",
            "text/plain": [
              "<Figure size 1080x1080 with 1 Axes>"
            ]
          },
          "metadata": {
            "needs_background": "light"
          }
        },
        {
          "output_type": "display_data",
          "data": {
            "image/png": "[encoded data removed]",
            "text/plain": [
              "<Figure size 1080x1080 with 1 Axes>"
            ]
          },
          "metadata": {
            "needs_background": "light"
          }
        },
        {
          "output_type": "display_data",
          "data": {
            "image/png": "[encoded data removed]",
            "text/plain": [
              "<Figure size 1080x1080 with 1 Axes>"
            ]
          },
          "metadata": {
            "needs_background": "light"
          }
        },
        {
          "output_type": "display_data",
          "data": {
            "image/png": "[encoded data removed]",
            "text/plain": [
              "<Figure size 1080x1080 with 1 Axes>"
            ]
          },
          "metadata": {
            "needs_background": "light"
          }
        },
        {
          "output_type": "display_data",
          "data": {
            "image/png": "[encoded data removed]",
            "text/plain": [
              "<Figure size 1080x1080 with 1 Axes>"
            ]
          },
          "metadata": {
            "needs_background": "light"
          }
        },
        {
          "output_type": "display_data",
          "data": {
            "image/png": "[encoded data removed]",
            "text/plain": [
              "<Figure size 1080x1080 with 1 Axes>"
            ]
          },
          "metadata": {
            "needs_background": "light"
          }
        },
        {
          "output_type": "display_data",
          "data": {
            "image/png": "[encoded data removed]",
            "text/plain": [
              "<Figure size 1080x1080 with 1 Axes>"
            ]
          },
          "metadata": {
            "needs_background": "light"
          }
        },
        {
          "output_type": "display_data",
          "data": {
            "image/png": "[encoded data removed]",
            "text/plain": [
              "<Figure size 1080x1080 with 1 Axes>"
            ]
          },
          "metadata": {
            "needs_background": "light"
          }
        },
        {
          "output_type": "display_data",
          "data": {
            "image/png": "[encoded data removed]",
            "text/plain": [
              "<Figure size 1080x1080 with 1 Axes>"
            ]
          },
          "metadata": {
            "needs_background": "light"
          }
        },
        {
          "output_type": "display_data",
          "data": {
            "image/png": "[encoded data removed]",
            "text/plain": [
              "<Figure size 1080x1080 with 1 Axes>"
            ]
          },
          "metadata": {
            "needs_background": "light"
          }
        },
        {
          "output_type": "display_data",
          "data": {
            "image/png": "[encoded data removed]",
            "text/plain": [
              "<Figure size 1080x1080 with 1 Axes>"
            ]
          },
          "metadata": {
            "needs_background": "light"
          }
        },
        {
          "output_type": "display_data",
          "data": {
            "image/png": "[encoded data removed]",
            "text/plain": [
              "<Figure size 1080x1080 with 1 Axes>"
            ]
          },
          "metadata": {
            "needs_background": "light"
          }
        },
        {
          "output_type": "display_data",
          "data": {
            "image/png": "[encoded data removed]",
            "text/plain": [
              "<Figure size 1080x1080 with 1 Axes>"
            ]
          },
          "metadata": {
            "needs_background": "light"
          }
        },
        {
          "output_type": "display_data",
          "data": {
            "image/png": "[encoded data removed]",
            "text/plain": [
              "<Figure size 1080x1080 with 1 Axes>"
            ]
          },
          "metadata": {
            "needs_background": "light"
          }
        },
        {
          "output_type": "display_data",
          "data": {
            "image/png": "[encoded data removed]",
            "text/plain": [
              "<Figure size 1080x1080 with 1 Axes>"
            ]
          },
          "metadata": {
            "needs_background": "light"
          }
        },
        {
          "output_type": "display_data",
          "data": {
            "image/png": "[encoded data removed]",
            "text/plain": [
              "<Figure size 1080x1080 with 1 Axes>"
            ]
          },
          "metadata": {
            "needs_background": "light"
          }
        },
        {
          "output_type": "display_data",
          "data": {
            "image/png": "[encoded data removed]",
            "text/plain": [
              "<Figure size 1080x1080 with 1 Axes>"
            ]
          },
          "metadata": {
            "needs_background": "light"
          }
        },
        {
          "output_type": "display_data",
          "data": {
            "image/png": "[encoded data removed]",
            "text/plain": [
              "<Figure size 1080x1080 with 1 Axes>"
            ]
          },
          "metadata": {
            "needs_background": "light"
          }
        },
        {
          "output_type": "display_data",
          "data": {
            "image/png": "[encoded data removed]",
            "text/plain": [
              "<Figure size 1080x1080 with 1 Axes>"
            ]
          },
          "metadata": {
            "needs_background": "light"
          }
        },
        {
          "output_type": "display_data",
          "data": {
            "image/png": "[encoded data removed]",
            "text/plain": [
              "<Figure size 1080x1080 with 1 Axes>"
            ]
          },
          "metadata": {
            "needs_background": "light"
          }
        },
        {
          "output_type": "display_data",
          "data": {
            "image/png": "[encoded data removed]",
            "text/plain": [
              "<Figure size 1080x1080 with 1 Axes>"
            ]
          },
          "metadata": {
            "needs_background": "light"
          }
        },
        {
          "output_type": "display_data",
          "data": {
            "image/png": "[encoded data removed]",
            "text/plain": [
              "<Figure size 1080x1080 with 1 Axes>"
            ]
          },
          "metadata": {
            "needs_background": "light"
          }
        },
        {
          "output_type": "display_data",
          "data": {
            "image/png": "[encoded data removed]",
            "text/plain": [
              "<Figure size 1080x1080 with 1 Axes>"
            ]
          },
          "metadata": {
            "needs_background": "light"
          }
        },
        {
          "output_type": "display_data",
          "data": {
            "image/png": "[encoded data removed]",
            "text/plain": [
              "<Figure size 1080x1080 with 1 Axes>"
            ]
          },
          "metadata": {
            "needs_background": "light"
          }
        },
        {
          "output_type": "display_data",
          "data": {
            "image/png": "[encoded data removed]",
            "text/plain": [
              "<Figure size 1080x1080 with 1 Axes>"
            ]
          },
          "metadata": {
            "needs_background": "light"
          }
        },
        {
          "output_type": "display_data",
          "data": {
            "image/png": "[encoded data removed]",
            "text/plain": [
              "<Figure size 1080x1080 with 1 Axes>"
            ]
          },
          "metadata": {
            "needs_background": "light"
          }
        },
        {
          "output_type": "display_data",
          "data": {
            "image/png": "[encoded data removed]",
            "text/plain": [
              "<Figure size 1080x1080 with 1 Axes>"
            ]
          },
          "metadata": {
            "needs_background": "light"
          }
        },
        {
          "output_type": "display_data",
          "data": {
            "image/png": "[encoded data removed]",
            "text/plain": [
              "<Figure size 1080x1080 with 1 Axes>"
            ]
          },
          "metadata": {
            "needs_background": "light"
          }
        },
        {
          "output_type": "display_data",
          "data": {
            "image/png": "[encoded data removed]",
            "text/plain": [
              "<Figure size 1080x1080 with 1 Axes>"
            ]
          },
          "metadata": {
            "needs_background": "light"
          }
        },
        {
          "output_type": "display_data",
          "data": {
            "image/png": "[encoded data removed]",
            "text/plain": [
              "<Figure size 1080x1080 with 1 Axes>"
            ]
          },
          "metadata": {
            "needs_background": "light"
          }
        },
        {
          "output_type": "display_data",
          "data": {
            "image/png": "[encoded data removed]",
            "text/plain": [
              "<Figure size 1080x1080 with 1 Axes>"
            ]
          },
          "metadata": {
            "needs_background": "light"
          }
        },
        {
          "output_type": "display_data",
          "data": {
            "image/png": "[encoded data removed]",
            "text/plain": [
              "<Figure size 1080x1080 with 1 Axes>"
            ]
          },
          "metadata": {
            "needs_background": "light"
          }
        },
        {
          "output_type": "display_data",
          "data": {
            "image/png": "[encoded data removed]",
            "text/plain": [
              "<Figure size 1080x1080 with 1 Axes>"
            ]
          },
          "metadata": {
            "needs_background": "light"
          }
        },
        {
          "output_type": "display_data",
          "data": {
            "image/png": "[encoded data removed]",
            "text/plain": [
              "<Figure size 1080x1080 with 1 Axes>"
            ]
          },
          "metadata": {
            "needs_background": "light"
          }
        },
        {
          "output_type": "display_data",
          "data": {
            "image/png": "[encoded data removed]",
            "text/plain": [
              "<Figure size 1080x1080 with 1 Axes>"
            ]
          },
          "metadata": {
            "needs_background": "light"
          }
        },
        {
          "output_type": "display_data",
          "data": {
            "image/png": "[encoded data removed]",
            "text/plain": [
              "<Figure size 1080x1080 with 1 Axes>"
            ]
          },
          "metadata": {
            "needs_background": "light"
          }
        },
        {
          "output_type": "display_data",
          "data": {
            "image/png": "[encoded data removed]",
            "text/plain": [
              "<Figure size 1080x1080 with 1 Axes>"
            ]
          },
          "metadata": {
            "needs_background": "light"
          }
        },
        {
          "output_type": "display_data",
          "data": {
            "image/png": "[encoded data removed]",
            "text/plain": [
              "<Figure size 1080x1080 with 1 Axes>"
            ]
          },
          "metadata": {
            "needs_background": "light"
          }
        },
        {
          "output_type": "display_data",
          "data": {
            "image/png": "[encoded data removed]",
            "text/plain": [
              "<Figure size 1080x1080 with 1 Axes>"
            ]
          },
          "metadata": {
            "needs_background": "light"
          }
        },
        {
          "output_type": "display_data",
          "data": {
            "image/png": "[encoded data removed]",
            "text/plain": [
              "<Figure size 1080x1080 with 1 Axes>"
            ]
          },
          "metadata": {
            "needs_background": "light"
          }
        },
        {
          "output_type": "display_data",
          "data": {
            "image/png": "[encoded data removed]",
            "text/plain": [
              "<Figure size 1080x1080 with 1 Axes>"
            ]
          },
          "metadata": {
            "needs_background": "light"
          }
        },
        {
          "output_type": "display_data",
          "data": {
            "image/png": "[encoded data removed]",
            "text/plain": [
              "<Figure size 1080x1080 with 1 Axes>"
            ]
          },
          "metadata": {
            "needs_background": "light"
          }
        },
        {
          "output_type": "display_data",
          "data": {
            "image/png": "[encoded data removed]",
            "text/plain": [
              "<Figure size 1080x1080 with 1 Axes>"
            ]
          },
          "metadata": {
            "needs_background": "light"
          }
        },
        {
          "output_type": "display_data",
          "data": {
            "image/png": "[encoded data removed]",
            "text/plain": [
              "<Figure size 1080x1080 with 1 Axes>"
            ]
          },
          "metadata": {
            "needs_background": "light"
          }
        },
        {
          "output_type": "display_data",
          "data": {
            "image/png": "[encoded data removed]",
            "text/plain": [
              "<Figure size 1080x1080 with 1 Axes>"
            ]
          },
          "metadata": {
            "needs_background": "light"
          }
        },
        {
          "output_type": "display_data",
          "data": {
            "image/png": "[encoded data removed]",
            "text/plain": [
              "<Figure size 1080x1080 with 1 Axes>"
            ]
          },
          "metadata": {
            "needs_background": "light"
          }
        },
        {
          "output_type": "display_data",
          "data": {
            "image/png": "[encoded data removed]",
            "text/plain": [
              "<Figure size 1080x1080 with 1 Axes>"
            ]
          },
          "metadata": {
            "needs_background": "light"
          }
        },
        {
          "output_type": "display_data",
          "data": {
            "image/png": "[encoded data removed]",
            "text/plain": [
              "<Figure size 1080x1080 with 1 Axes>"
            ]
          },
          "metadata": {
            "needs_background": "light"
          }
        },
        {
          "output_type": "display_data",
          "data": {
            "image/png": "[encoded data removed]",
            "text/plain": [
              "<Figure size 1080x1080 with 1 Axes>"
            ]
          },
          "metadata": {
            "needs_background": "light"
          }
        },
        {
          "output_type": "display_data",
          "data": {
            "image/png": "[encoded data removed]",
            "text/plain": [
              "<Figure size 1080x1080 with 1 Axes>"
            ]
          },
          "metadata": {
            "needs_background": "light"
          }
        },
        {
          "output_type": "display_data",
          "data": {
            "image/png": "[encoded data removed]",
            "text/plain": [
              "<Figure size 1080x1080 with 1 Axes>"
            ]
          },
          "metadata": {
            "needs_background": "light"
          }
        },
        {
          "output_type": "display_data",
          "data": {
            "image/png": "[encoded data removed]",
            "text/plain": [
              "<Figure size 1080x1080 with 1 Axes>"
            ]
          },
          "metadata": {
            "needs_background": "light"
          }
        },
        {
          "output_type": "display_data",
          "data": {
            "image/png": "[encoded data removed]",
            "text/plain": [
              "<Figure size 1080x1080 with 1 Axes>"
            ]
          },
          "metadata": {
            "needs_background": "light"
          }
        },
        {
          "output_type": "display_data",
          "data": {
            "image/png": "[encoded data removed]",
            "text/plain": [
              "<Figure size 1080x1080 with 1 Axes>"
            ]
          },
          "metadata": {
            "needs_background": "light"
          }
        },
        {
          "output_type": "display_data",
          "data": {
            "image/png": "[encoded data removed]",
            "text/plain": [
              "<Figure size 1080x1080 with 1 Axes>"
            ]
          },
          "metadata": {
            "needs_background": "light"
          }
        },
        {
          "output_type": "display_data",
          "data": {
            "image/png": "[encoded data removed]",
            "text/plain": [
              "<Figure size 1080x1080 with 1 Axes>"
            ]
          },
          "metadata": {
            "needs_background": "light"
          }
        },
        {
          "output_type": "display_data",
          "data": {
            "image/png": "[encoded data removed]",
            "text/plain": [
              "<Figure size 1080x1080 with 1 Axes>"
            ]
          },
          "metadata": {
            "needs_background": "light"
          }
        },
        {
          "output_type": "display_data",
          "data": {
            "image/png": "[encoded data removed]",
            "text/plain": [
              "<Figure size 1080x1080 with 1 Axes>"
            ]
          },
          "metadata": {
            "needs_background": "light"
          }
        }
      ],
      "source": [
        "#Vamos a inpeccionar aleatoriamente el dataset, seperando las clases\n",
        "def plot_mnist_grid():\n",
        "    y_test=loader_test.dataset.targets\n",
        "    x_test=loader_test.dataset.data\n",
        "    samples = 8\n",
        "    plt.rcParams['figure.figsize'] = (15.0, 15.0) # set default size of plots\n",
        "    classes = ['0', '1', '2', '3', '4', '5', '6', '7', '8', '9']\n",
        "    for label, example in enumerate(classes):\n",
        "    #     random_idx = np.random.randint(0,len(mnist_test))\n",
        "        plt_idxs = np.flatnonzero(y_test == label) # get all data equal to label\n",
        "        plt_idxs = np.random.choice(plt_idxs, samples, replace=False) #muestrea samples muestras de plt_idx\n",
        "    #     print(plt_idxs)\n",
        "        for i, idx in enumerate(plt_idxs):\n",
        "            plt_idx = i*len(classes) + label + 1 #plot index starts at 1\n",
        "            plt.subplot(samples, len(classes), plt_idx)\n",
        "    #         print(example, i, plt_idx)\n",
        "    #         plt.imshow(x_test[idx].type(torch.float32).reshape(28,28))\n",
        "    #         plt.axis('off')\n",
        "            plot_number(x_test[idx])\n",
        "            if i == 0:\n",
        "                plt.title(example)\n",
        "\n",
        "    plt.show()\n",
        "plot_mnist_grid()"
      ]
    },
    {
      "cell_type": "code",
      "execution_count": 11,
      "metadata": {
        "id": "AWPc2KVGDtWa",
        "colab": {
          "base_uri": "https://localhost:8080/",
          "height": 1000
        },
        "outputId": "20b1dc6f-2606-49c4-efd7-e7be52e53c21"
      },
      "outputs": [
        {
          "output_type": "stream",
          "name": "stdout",
          "text": [
            "La imagen muestreada representa un: 2\n"
          ]
        },
        {
          "output_type": "display_data",
          "data": {
            "image/png": "[encoded data removed]",
            "text/plain": [
              "<Figure size 1080x1080 with 1 Axes>"
            ]
          },
          "metadata": {
            "needs_background": "light"
          }
        },
        {
          "output_type": "display_data",
          "data": {
            "image/png": "[encoded data removed]",
            "text/plain": [
              "<Figure size 1080x1080 with 1 Axes>"
            ]
          },
          "metadata": {
            "needs_background": "light"
          }
        }
      ],
      "source": [
        "#Vamos a inpeccionar aleatoriamente una sola imagen del dataset\n",
        "rnd_idx = np.random.randint(len(y_test))\n",
        "print(f'La imagen muestreada representa un: {y_test[rnd_idx]}')\n",
        "plot_number(x_test[rnd_idx])"
      ]
    },
    {
      "cell_type": "markdown",
      "metadata": {
        "id": "NVBpUYhIDtWb"
      },
      "source": [
        "## GPUs (Si tenemos GPU lo usaremos para acelerar el calculo)"
      ]
    },
    {
      "cell_type": "code",
      "execution_count": 12,
      "metadata": {
        "id": "EZYv5KPiDtWb",
        "colab": {
          "base_uri": "https://localhost:8080/"
        },
        "outputId": "d10dac0c-6a69-4b66-93ff-62a9cfd5e75f"
      },
      "outputs": [
        {
          "output_type": "stream",
          "name": "stdout",
          "text": [
            "using device: cpu\n"
          ]
        }
      ],
      "source": [
        "dtype = torch.float32\n",
        "if torch.cuda.is_available():\n",
        "    device = torch.device('cuda')\n",
        "else:\n",
        "    device = torch.device('cpu')\n",
        "\n",
        "print('using device:', device)"
      ]
    },
    {
      "cell_type": "markdown",
      "metadata": {
        "id": "nJ43ZlwSDtWb"
      },
      "source": [
        "## Compute Accuracy"
      ]
    },
    {
      "cell_type": "code",
      "execution_count": 13,
      "metadata": {
        "id": "fB3JgsivDtWc"
      },
      "outputs": [],
      "source": [
        "#Este metodo lo usaremos mas adelante para medir la presicion de nuestra red neuronal\n",
        "#Recibe como parametros un dataset \"loader\", un modelo de red neuronal \"model\" y un mode de funcionamiento \"eval_mode\"\n",
        "def compute_acc(loader, model, eval_mode=False):\n",
        "    num_correct = 0\n",
        "    num_total = 0\n",
        "    if eval_mode: model.eval()#Si es un modelo heredado de un modelo de pythorch se debe usar esto?\n",
        "    \n",
        "    #solo estamos evaluando no queremos que ese el calcule el gradiente de la funcion de costo dJ\n",
        "    with torch.no_grad():#pythorch por defecto hace calculo de gradiente, pero en este caso lo desactivamos ya que no nos interesa\n",
        "        for x, y in loader: #accedemos a los datos del dataset   x:imagenes, y:resultados esperado\n",
        "            x = x.to(device=device, dtype=dtype) #esta instruccion pasa los datos al bus del GPU o CPU\n",
        "            y = y.to(device=device, dtype=torch.long) #esta instruccion pasa los datos al bus del GPU o CPU\n",
        "            scores = model(x) #probamos el dataset con el modelo de red neuronal                 \n",
        "            _, pred = scores.max(1)    #Se aplica la funcion softmax    exp(salida) ?\n",
        "            assert pred.shape == y.shape, 'Label shape and prediction shape does not match'\n",
        "            #calculamos la probabilidad a  partir de  e^yi/sum(e^yi)\n",
        "            num_correct += (pred==y).sum()  #valorEsperado*prediccion ,          predicccion is  -ln(softmax(outRed))\n",
        "            num_total += pred.size(0)           \n",
        "            \n",
        "        return float(num_correct)/num_total\n",
        "\n",
        "#OJO: en la ultima para los score no se le aplica una funcion de activacion 0_1, no se convierte a probabilidad de la ultima capa\n",
        "#Para calcula el score o probabilidad de exito de cada neurona se utiliza la funcion SOFTMAX( e^xi/Sum e^xi)  )   \n",
        "#   ojo   Loss function=   funcion de costo o error J es   =   para problemas de clasificacion se usa la \n",
        "# funcion de perdidad    \"cross entropy\"?  J= -ValorEsperado*ln( sofmax(prediccion) )    esto va de inf a 0(minimo global)\n",
        "\n",
        "#Nota Funcion SOFTMAX: suaviza el valor de salida limitandolo de 0 a 1,  antes se usaba la funcion sigmode, atan, step) o de 0 a inf como  funciones ReLU o rampa      pero daban problemas de optimizacion?\n",
        "#Aprendizado supervisado es cuando se entrena una red dando valores de entrada   y  dando valores de salida esperados"
      ]
    },
    {
      "cell_type": "markdown",
      "metadata": {
        "id": "YyGVUmEsDtWc"
      },
      "source": [
        "## MODO1) High level model  (creado una red usando la funcion nn.Sequential)"
      ]
    },
    {
      "cell_type": "code",
      "execution_count": 14,
      "metadata": {
        "id": "yXRSTmXSDtWc"
      },
      "outputs": [],
      "source": [
        "#Configuramos la red neuronal     input layer 784 neurons   -> intermediate layer of 1000 neurons , (activation function ReLU osea filtra solo valores +),  output layer of 10 neurons\n",
        "#usaremos el dataset de validacion   \"loader_test\"  de 5000 imagenes\n",
        "input_features = len(torch.flatten(x_test[0])) #28x28=784: caclulamos la longitud de entrada de la cadena de bits de una imagen 28x28   \n",
        "hidden = 1000   #deseamos una red neuronal normal full connected  con 100 \n",
        "num_classes = 10  "
      ]
    },
    {
      "cell_type": "markdown",
      "source": [
        ""
      ],
      "metadata": {
        "id": "JYKpEqtOupjA"
      }
    },
    {
      "cell_type": "code",
      "execution_count": 15,
      "metadata": {
        "id": "WFuw-e6tDtWd"
      },
      "outputs": [],
      "source": [
        "#Configuramos una red neuronal full connected de 2 capas\n",
        "model1 = nn.Sequential(\n",
        "    nn.Flatten(), #la entrada de la imagen 28x28 sera como cadena de pixels de 784\n",
        "    nn.Linear(in_features=input_features, out_features=hidden ), #1st layer of 784 neurons con salida a 2nd layer 1000 neuros (simplemente es una multiplicacion matricial W.x ) \n",
        "    nn.ReLU(),  #PORQUE no se normaliza  de 0 a 1 ?   y  donde esta el softmax?\n",
        "    nn.Linear(in_features=hidden, out_features=num_classes ) #2st layer of 1000 neurons con salida a 3nd layer 10 neurons (simplemente es una multiplicacion matricial W.x )\n",
        "    #nn.ReLU(),  #NO se ele aplica    y  donde esta el softmax?\n",
        "    )\n",
        "#(simplemente es una multiplicacion matricial W2(ReLu(W1.input) )\n"
      ]
    },
    {
      "cell_type": "code",
      "execution_count": 16,
      "metadata": {
        "id": "argwKpVcDtWd"
      },
      "outputs": [],
      "source": [
        "def plot_loss(losses):  \n",
        "    fig = plt.figure()\n",
        "    f1 = fig.add_subplot()\n",
        "    f1.set_ylabel(\"Cost\")\n",
        "    f1.set_xlabel(\"Epoch\")\n",
        "    f1.set_title(\"Cost vs Epoch\")\n",
        "    f1.plot(losses)\n",
        "    plt.show()\n",
        "\n",
        "#parametros: \"model\" sera model1 red full connected,  \"optimizer\" sera el tipo de solver,\n",
        "#epoca: es la cantidad de iteraciones que la red pasa por todo el dataset de entrenamiento\n",
        "# Como el dataset train es de 55 000 imagenes, entonces hay aprox 108 minibatches (107x512)\n",
        "# osea en cada epoca la red   recorre   108 minibatches     \n",
        "#Este metodo \"train\" siempre usara el dataset loader_train de 55 000 imagenes\n",
        "def train(model, optimizer, epochs=100):\n",
        "    model = model.to(device=device) #se pasa el model al gpu\n",
        "    losses = [] #unused\n",
        "    \n",
        "    num_batches = len(loader_train)  #usamos el dataset loader_train de 55 000 imagenes\n",
        "    for epoch in range(epochs):\n",
        "        accum_loss = 0.\n",
        "        for i, (x, y) in enumerate(loader_train):\n",
        "            #poner modelo en modo de entrenamiento\n",
        "            model.train()\n",
        "            #mover a GPU\n",
        "            x = x.to(device=device, dtype=dtype) \n",
        "            y = y.to(device=device, dtype=torch.long)\n",
        "            \n",
        "            #calcular scores\n",
        "            scores=model(x)\n",
        "            cost=F.cross_entropy(input=scores, target=y) #llamamos al grupo de funciones de pytorh  F, \n",
        "            #especificamente la funcion de perdida o costo   cross entropy  = sum(-desired*ln(softmax(outputs)))\n",
        "            #cost es la funcion a minimizar,   target  es los valores deseados,  input  es la salida de la red?\n",
        "\n",
        "            #calcular gradients           se  debe hallar el W  que mininima la funcion \"cost\"\n",
        "            optimizer.zero_grad() #minimizamos usando el metodo del desenso de gradiente  dW=-learninrate*dCost\n",
        "            cost.backward()  #TODO:  aplica retropropagacion? REVISAR         calcula los gradientes de toda la red\n",
        "\n",
        "            #actualizar parametros\n",
        "            optimizer.step()   # Wnew=Wold + dW\n",
        "            \n",
        "            #guardar pérdida\n",
        "            accum_loss += cost.item()\n",
        "        losses.append(accum_loss / num_batches)\n",
        "            \n",
        "        print(f'Epoch: {epoch}, loss: {cost.item()}, val accuracy: {compute_acc(loader_val, model, True)} ')\n",
        "        print()\n",
        "    plot_loss(losses)"
      ]
    },
    {
      "cell_type": "code",
      "execution_count": 17,
      "metadata": {
        "id": "RsBxj4CgDtWd",
        "colab": {
          "base_uri": "https://localhost:8080/",
          "height": 1000
        },
        "outputId": "690f1380-6173-494c-f717-5cc71586f178"
      },
      "outputs": [
        {
          "output_type": "stream",
          "name": "stdout",
          "text": [
            "Epoch: 0, loss: 1.9555771350860596, val accuracy: 0.7374 \n",
            "\n",
            "Epoch: 1, loss: 1.4994101524353027, val accuracy: 0.801 \n",
            "\n",
            "Epoch: 2, loss: 1.184092402458191, val accuracy: 0.844 \n",
            "\n",
            "Epoch: 3, loss: 0.9974896311759949, val accuracy: 0.869 \n",
            "\n",
            "Epoch: 4, loss: 0.790389895439148, val accuracy: 0.8816 \n",
            "\n",
            "Epoch: 5, loss: 0.7179954051971436, val accuracy: 0.8898 \n",
            "\n",
            "Epoch: 6, loss: 0.5225148797035217, val accuracy: 0.8962 \n",
            "\n",
            "Epoch: 7, loss: 0.5628352761268616, val accuracy: 0.9008 \n",
            "\n",
            "Epoch: 8, loss: 0.5407513380050659, val accuracy: 0.9038 \n",
            "\n",
            "Epoch: 9, loss: 0.4795617461204529, val accuracy: 0.9062 \n",
            "\n"
          ]
        },
        {
          "output_type": "display_data",
          "data": {
            "image/png": "[encoded data removed]",
            "text/plain": [
              "<Figure size 1080x1080 with 1 Axes>"
            ]
          },
          "metadata": {
            "needs_background": "light"
          }
        }
      ],
      "source": [
        "#entrenar el modelo\n",
        "learning_rate = 1e-2\n",
        "epochs = 10\n",
        "optimiser = torch.optim.SGD(model1.parameters(), lr=learning_rate)\n",
        "train(model1, optimiser, epochs) #aqui se entrena siempre usando el dataset loader_train de 55 000 imagenes"
      ]
    },
    {
      "cell_type": "markdown",
      "source": [
        ""
      ],
      "metadata": {
        "id": "tSbJYBiT77uk"
      }
    },
    {
      "cell_type": "markdown",
      "metadata": {
        "id": "xDuj2S_gDtWe"
      },
      "source": [
        "## MODO2) More elegant high level model (Creando modelo de red heredando de la clase de pytorch)"
      ]
    },
    {
      "cell_type": "markdown",
      "source": [
        "En este modo, la red neuronal es una variable miembro de una subclase que hereda de una clase de pytorch.\n",
        "Usar este modo de herencia tiene sus ventajas :\n",
        "- permite guardar el modelo mas facil\n",
        "- dice que da mas flexibilidad para structurar la red???  en todo caso se recomienda (seguramente la ventaja es porque te permite heredar otras funcionalidades utiles de la super clase que brinda pythoch, habra que averiguar)"
      ],
      "metadata": {
        "id": "JXPNtz3K8rzi"
      }
    },
    {
      "cell_type": "code",
      "execution_count": 18,
      "metadata": {
        "id": "aa9dlqxmDtWe"
      },
      "outputs": [],
      "source": [
        "#Sub clase FC_model          ,  super clase  nn.Module\n",
        "class FC_model(nn.Module):\n",
        "    #constructor\n",
        "    def __init__(self, input_features, hidden = 1000, num_classes=10):\n",
        "        super().__init__()\n",
        "        #inicializamos variables miembro,  la red neuronal sera una varaible miembro     \n",
        "        self.model = nn.Sequential(\n",
        "          nn.Flatten(), #la entrada de la imagen 28x28 sera como cadena de pixels de 784\n",
        "          nn.Linear(in_features=input_features, out_features=hidden ), #1st layer of 784 neurons con salida a 2nd layer 1000 neuros (simplemente es una multiplicacion matricial W.x ) \n",
        "          nn.ReLU(),  #PORQUE no se normaliza  de 0 a 1 ?   y  donde esta el softmax?\n",
        "          nn.Linear(in_features=hidden, out_features=num_classes ) #2st layer of 1000 neurons con salida a 3nd layer 10 neurons (simplemente es una multiplicacion matricial W.x )\n",
        "          #nn.ReLU(),  #NO se ele aplica    y  donde esta el softmax?\n",
        "          )\n",
        "    #dice que esta funcion \"forward\" es una funcion que se ejecuta cuando se instancia la clase (similar a los functores ) \n",
        "    def forward(self, x): #similar al operador de python  __call__   para functores   ,  parece un callback  funcion que se le pasa a otra funcion?\n",
        "        return self.model(x) #None"
      ]
    },
    {
      "cell_type": "code",
      "execution_count": 19,
      "metadata": {
        "id": "38v3ZvFeDtWe",
        "colab": {
          "base_uri": "https://localhost:8080/",
          "height": 1000
        },
        "outputId": "1d4daa6c-ce1f-4c17-9396-4c69d2d9a2e1"
      },
      "outputs": [
        {
          "output_type": "stream",
          "name": "stdout",
          "text": [
            "Epoch: 0, loss: 0.25088202953338623, val accuracy: 0.9678 \n",
            "\n",
            "Epoch: 1, loss: 0.10957656055688858, val accuracy: 0.9734 \n",
            "\n",
            "Epoch: 2, loss: 0.077447310090065, val accuracy: 0.9732 \n",
            "\n",
            "Epoch: 3, loss: 0.052442170679569244, val accuracy: 0.9798 \n",
            "\n",
            "Epoch: 4, loss: 0.04521699249744415, val accuracy: 0.978 \n",
            "\n",
            "Epoch: 5, loss: 0.05011006072163582, val accuracy: 0.9804 \n",
            "\n",
            "Epoch: 6, loss: 0.004321979358792305, val accuracy: 0.9766 \n",
            "\n",
            "Epoch: 7, loss: 0.012763221748173237, val accuracy: 0.978 \n",
            "\n",
            "Epoch: 8, loss: 0.0184861458837986, val accuracy: 0.9798 \n",
            "\n",
            "Epoch: 9, loss: 0.037090666592121124, val accuracy: 0.9818 \n",
            "\n"
          ]
        },
        {
          "output_type": "display_data",
          "data": {
            "image/png": "[encoded data removed]",
            "text/plain": [
              "<Figure size 1080x1080 with 1 Axes>"
            ]
          },
          "metadata": {
            "needs_background": "light"
          }
        }
      ],
      "source": [
        "#Entrenar modelo\n",
        "input_features = len(torch.flatten(x_test[0]))\n",
        "hidden = 1000\n",
        "num_classes = 10\n",
        "learning_rate = 1e-2   # probar con un paso menor de 1e-4\n",
        "epochs = 10\n",
        "model2 = FC_model(input_features) #input_features esta relacionado siempre al dataset de validadcion loader_test de 10 000 imagens\n",
        "optimiser = torch.optim.Adam(model2.parameters(), lr = learning_rate) #el metodo de optimizacion Adam es mas eficiente para que la minimizacion converga rapido (la comunidad lo recomienda )\n",
        "# optimiser = torch.optim.SGD(model2.parameters(), lr = learning_rate) #este es el optimizer que usar el metodo del SDG (decenso de gradiente   stocastic gradient descent) pero no es el mas eficiente\n",
        "train(model2, optimiser, epochs)   #aqui se entrena siempre usando el dataset loader_train de 55 000 imagenes"
      ]
    },
    {
      "cell_type": "code",
      "execution_count": 20,
      "metadata": {
        "id": "yD8R3JZ4DtWe",
        "colab": {
          "base_uri": "https://localhost:8080/"
        },
        "outputId": "5956a478-7c15-4dc8-af89-4c7c7f8ae68c"
      },
      "outputs": [
        {
          "output_type": "execute_result",
          "data": {
            "text/plain": [
              "0.9789"
            ]
          },
          "metadata": {},
          "execution_count": 20
        }
      ],
      "source": [
        "compute_acc(loader_test, model2)"
      ]
    },
    {
      "cell_type": "markdown",
      "metadata": {
        "id": "R56AM5gODtWe"
      },
      "source": [
        "## Guardando el modelo"
      ]
    },
    {
      "cell_type": "code",
      "execution_count": 21,
      "metadata": {
        "id": "1RoSRp5ADtWf"
      },
      "outputs": [],
      "source": [
        "model_path = '/media/josh/MyData/Databases/mnist/FC_model1st.pth'\n",
        "torch.save(model2.state_dict(), model_path)   #verificar que se guardo el modelo de red"
      ]
    },
    {
      "cell_type": "markdown",
      "source": [
        "Cargamos el modelo guardado"
      ],
      "metadata": {
        "id": "iRi2RTmaBLVr"
      }
    },
    {
      "cell_type": "code",
      "execution_count": 33,
      "metadata": {
        "id": "kCq71ESfDtWf",
        "colab": {
          "base_uri": "https://localhost:8080/"
        },
        "outputId": "74167867-46c7-44a4-8707-1418583beb6b"
      },
      "outputs": [
        {
          "output_type": "execute_result",
          "data": {
            "text/plain": [
              "FC_model(\n",
              "  (model): Sequential(\n",
              "    (0): Flatten(start_dim=1, end_dim=-1)\n",
              "    (1): Linear(in_features=784, out_features=1000, bias=True)\n",
              "    (2): ReLU()\n",
              "    (3): Linear(in_features=1000, out_features=10, bias=True)\n",
              "  )\n",
              ")"
            ]
          },
          "metadata": {},
          "execution_count": 33
        }
      ],
      "source": [
        "#input_features esta relacionado siempre al dataset de validadcion loader_test de 10 000 imagens\n",
        "input_features = len(torch.flatten(x_test[0]))\n",
        "loaded_model = FC_model(input_features=input_features) \n",
        "loaded_model.load_state_dict(torch.load(model_path)) #CARGAMOS el MODELO DE RED guardado\n",
        "loaded_model = loaded_model.to(device=device)#pasamos el modelo al gpu\n",
        "#Se asume que la red ya esta entrenada y validada  asi que evaluamos/predecimos directamente  con el set de loader_test de 5000 imagens\n",
        "loaded_model.eval() #este es un metodo heredado  que  evalua la red directamente"
      ]
    },
    {
      "cell_type": "code",
      "execution_count": 34,
      "metadata": {
        "id": "AOIM4jXNDtWf"
      },
      "outputs": [],
      "source": [
        "#Metodo que brinda una imagen aleatorio del set de loader_test de 10 000 imagenes \n",
        "def sample_number():\n",
        "    rnd_idx = np.random.randint(10000)\n",
        "#     print(f'{y_test[rnd_idx]}')\n",
        "    image2 = x_test[rnd_idx][None, :,:]\n",
        "    plot_number(image2)\n",
        "    image2 = image2.type(torch.float32)\n",
        "    return image2.to(device=device)"
      ]
    },
    {
      "cell_type": "code",
      "execution_count": 38,
      "metadata": {
        "id": "7ZHu3ZfcDtWg",
        "colab": {
          "base_uri": "https://localhost:8080/",
          "height": 1000
        },
        "outputId": "fbab703e-6937-4edf-a604-ea504834230a"
      },
      "outputs": [
        {
          "output_type": "display_data",
          "data": {
            "image/png": "[encoded data removed]",
            "text/plain": [
              "<Figure size 1080x1080 with 1 Axes>"
            ]
          },
          "metadata": {
            "needs_background": "light"
          }
        },
        {
          "output_type": "stream",
          "name": "stdout",
          "text": [
            "The predicted class is: 3\n"
          ]
        },
        {
          "output_type": "display_data",
          "data": {
            "image/png": "[encoded data removed]",
            "text/plain": [
              "<Figure size 1080x1080 with 1 Axes>"
            ]
          },
          "metadata": {
            "needs_background": "light"
          }
        }
      ],
      "source": [
        "image=sample_number()\n",
        "_, class_is = loaded_model(image).max(1)\n",
        "print(f'The predicted class is: {class_is[0]}')"
      ]
    },
    {
      "cell_type": "markdown",
      "metadata": {
        "id": "j_F6eBDlDtWg"
      },
      "source": [
        "## MODO3)  Red Neuronal con módulos básicos   (creando red desde casi 0 usando  numpy lib  con unas pocas funciones  de  pythorch)"
      ]
    },
    {
      "cell_type": "code",
      "execution_count": 26,
      "metadata": {
        "id": "Ix5tXoizDtWh"
      },
      "outputs": [],
      "source": [
        "def flatten(x):\n",
        "    N = x.shape[0]\n",
        "    return x.view(N, -1)"
      ]
    },
    {
      "cell_type": "code",
      "execution_count": 63,
      "metadata": {
        "id": "2oByLsPmDtWh"
      },
      "outputs": [],
      "source": [
        "class FC_other():\n",
        "    def __init__(self, in_features, hidden=1000, num_classes = 10):\n",
        "        #inicializamos varaibles miembros\n",
        "        #Coefficientes de la primera capa de neuronas\n",
        "        self.W1=torch.randn((in_features,hidden), device=device, dtype=dtype) #usamos pytorch para crear matriz W aleatoria  \n",
        "        self.W1.requires_grad=True\n",
        "        self.b1=torch.zeros((hidden), device=device, dtype=dtype)\n",
        "        self.b1.requires_grad=True\n",
        "        \n",
        "        #Coefficientes de la segunda capa de neuronas\n",
        "        self.W2=torch.randn((hidden,num_classes), device=device, dtype=dtype) #usamos pytorch para crear matriz W aleatoria  \n",
        "        self.W2.requires_grad=True\n",
        "        self.b2=torch.zeros((num_classes), device=device, dtype=dtype)\n",
        "        self.b2.requires_grad=True\n",
        "\n",
        "    #def forward(self, x):   #es como un functor   un funcion  que se llama automaticamente cuando   se instancia  una clase \n",
        "    def __call__(self, x):  #operator of functor in c++\n",
        "        x=flatten(x)\n",
        "        x=x@self.W1+self.b1 # @ multiplicacion matriz vector\n",
        "        x=F.relu(x)\n",
        "        return x@self.W2+self.b2\n",
        "\n",
        "                "
      ]
    },
    {
      "cell_type": "code",
      "execution_count": 59,
      "metadata": {
        "id": "rJ_TZnCpDtWh"
      },
      "outputs": [],
      "source": [
        "sample1 = x_test[0][None, :, :].to(device=device, dtype=dtype)"
      ]
    },
    {
      "cell_type": "code",
      "execution_count": 60,
      "metadata": {
        "id": "R_NrqpTQDtWh",
        "colab": {
          "base_uri": "https://localhost:8080/"
        },
        "outputId": "6d3ac4ba-16e8-4084-9c28-6cbf348e3cdf"
      },
      "outputs": [
        {
          "output_type": "execute_result",
          "data": {
            "text/plain": [
              "784"
            ]
          },
          "metadata": {},
          "execution_count": 60
        }
      ],
      "source": [
        "input_features # "
      ]
    },
    {
      "cell_type": "code",
      "execution_count": 64,
      "metadata": {
        "id": "HC9cZykTDtWh",
        "colab": {
          "base_uri": "https://localhost:8080/"
        },
        "outputId": "eeecef34-cda2-42ff-d9ff-9b745e828b1b"
      },
      "outputs": [
        {
          "output_type": "stream",
          "name": "stdout",
          "text": [
            "torch.Size([1, 10])\n"
          ]
        }
      ],
      "source": [
        "hidden = 1000\n",
        "num_classes = 10\n",
        "model3 = FC_other(input_features, hidden, num_classes)\n",
        "print(model3(sample1).shape)  # llama automaticamente al operator  __call__\n",
        "#print(model3.forward(sample1).shape) "
      ]
    },
    {
      "cell_type": "code",
      "execution_count": 65,
      "metadata": {
        "id": "cfEUfuG9DtWh"
      },
      "outputs": [],
      "source": [
        "def train_loop(model, epochs=10, learning_rate = 1e-6):\n",
        "#     model = model.to(device=device)\n",
        "    losses = []\n",
        "    num_batches = len(loader_train)\n",
        "    for epoch in range(epochs):\n",
        "        acum_loss = 0.\n",
        "        for it, (x, y) in enumerate(loader_train):\n",
        "            #Move to selected device\n",
        "            x=x.to(device=device, dtype=dtype)\n",
        "            y=y.to(device=device, dtype=torch.long)\n",
        "#             print(x.shape)\n",
        "            #compute scores\n",
        "#             scores = model.forward(x)\n",
        "            scores = model(x)\n",
        "            #compute cost\n",
        "            cost = F.cross_entropy(input=scores, target=y)\n",
        "            #compute gradient\n",
        "            cost.backward()\n",
        "            \n",
        "            #update parameters\n",
        "            with torch.no_grad():\n",
        "                model.W1 -= learning_rate * model.W1.grad\n",
        "                model.b1 -= learning_rate * model.b1.grad\n",
        "                \n",
        "                model.W2 -= learning_rate * model.W2.grad\n",
        "                model.b2 -= learning_rate * model.b2.grad\n",
        "                \n",
        "                #zero grads\n",
        "                model.W1.grad.zero_()\n",
        "                model.b1.grad.zero_()\n",
        "                model.W2.grad.zero_()\n",
        "                model.b2.grad.zero_()            \n",
        "            \n",
        "            acum_loss += cost.item()\n",
        "        losses.append(acum_loss/num_batches)\n",
        "        print(f'Epoch: {epoch}, loss: {cost.item()}, val accuracy: {compute_acc(loader_val, model)} ')\n",
        "        print()\n",
        "            "
      ]
    },
    {
      "cell_type": "code",
      "execution_count": 66,
      "metadata": {
        "id": "Y73bQXHoDtWi",
        "colab": {
          "base_uri": "https://localhost:8080/"
        },
        "outputId": "301fbb87-5b60-46dd-dc65-1410b927813f"
      },
      "outputs": [
        {
          "output_type": "stream",
          "name": "stdout",
          "text": [
            "Epoch: 0, loss: 31.91474151611328, val accuracy: 0.7566 \n",
            "\n",
            "Epoch: 1, loss: 18.780807495117188, val accuracy: 0.8204 \n",
            "\n",
            "Epoch: 2, loss: 20.295015335083008, val accuracy: 0.8468 \n",
            "\n",
            "Epoch: 3, loss: 14.245709419250488, val accuracy: 0.8602 \n",
            "\n",
            "Epoch: 4, loss: 13.694014549255371, val accuracy: 0.8694 \n",
            "\n",
            "Epoch: 5, loss: 11.266538619995117, val accuracy: 0.877 \n",
            "\n",
            "Epoch: 6, loss: 10.972414016723633, val accuracy: 0.8814 \n",
            "\n",
            "Epoch: 7, loss: 12.396562576293945, val accuracy: 0.887 \n",
            "\n",
            "Epoch: 8, loss: 9.159987449645996, val accuracy: 0.8886 \n",
            "\n",
            "Epoch: 9, loss: 9.43649959564209, val accuracy: 0.894 \n",
            "\n",
            "Epoch: 10, loss: 3.3109958171844482, val accuracy: 0.8976 \n",
            "\n",
            "Epoch: 11, loss: 8.492722511291504, val accuracy: 0.9018 \n",
            "\n",
            "Epoch: 12, loss: 7.128032684326172, val accuracy: 0.9014 \n",
            "\n",
            "Epoch: 13, loss: 8.5635986328125, val accuracy: 0.9042 \n",
            "\n",
            "Epoch: 14, loss: 8.893948554992676, val accuracy: 0.9058 \n",
            "\n",
            "Epoch: 15, loss: 6.937857627868652, val accuracy: 0.9102 \n",
            "\n",
            "Epoch: 16, loss: 9.380420684814453, val accuracy: 0.909 \n",
            "\n",
            "Epoch: 17, loss: 7.271908283233643, val accuracy: 0.9124 \n",
            "\n",
            "Epoch: 18, loss: 6.473486423492432, val accuracy: 0.9126 \n",
            "\n",
            "Epoch: 19, loss: 4.920989036560059, val accuracy: 0.9134 \n",
            "\n"
          ]
        }
      ],
      "source": [
        "learning_rate = 1e-2\n",
        "epochs = 20\n",
        "hidden = 1000\n",
        "num_classes = 10\n",
        "model_fc1 = FC_other(input_features, hidden, num_classes)\n",
        "# print(model_fc1.forward(x1).shape)\n",
        "\n",
        "train_loop(model_fc1, epochs, learning_rate)  "
      ]
    },
    {
      "cell_type": "code",
      "execution_count": 68,
      "metadata": {
        "id": "ynfodi3vDtWi",
        "colab": {
          "base_uri": "https://localhost:8080/",
          "height": 1000
        },
        "outputId": "d0439946-1774-42db-b711-dde693659dd8"
      },
      "outputs": [
        {
          "output_type": "display_data",
          "data": {
            "image/png": "[encoded data removed]",
            "text/plain": [
              "<Figure size 1080x1080 with 1 Axes>"
            ]
          },
          "metadata": {
            "needs_background": "light"
          }
        },
        {
          "output_type": "stream",
          "name": "stdout",
          "text": [
            "The predicted class is: 9\n"
          ]
        },
        {
          "output_type": "display_data",
          "data": {
            "image/png": "[encoded data removed]",
            "text/plain": [
              "<Figure size 1080x1080 with 1 Axes>"
            ]
          },
          "metadata": {
            "needs_background": "light"
          }
        }
      ],
      "source": [
        "#Probamos este modelo\n",
        "imageTest=sample_number()\n",
        "_, class_is = model_fc1(imageTest).max(1)\n",
        "print(f'The predicted class is: {class_is[0]}')"
      ]
    },
    {
      "cell_type": "code",
      "execution_count": null,
      "metadata": {
        "id": "alFMnXqUDtWi"
      },
      "outputs": [],
      "source": [
        ""
      ]
    },
    {
      "cell_type": "code",
      "execution_count": null,
      "metadata": {
        "id": "YK0HBbL0DtWi"
      },
      "outputs": [],
      "source": [
        ""
      ]
    },
    {
      "cell_type": "code",
      "execution_count": null,
      "metadata": {
        "id": "77b01WAbDtWi"
      },
      "outputs": [],
      "source": [
        ""
      ]
    },
    {
      "cell_type": "code",
      "execution_count": null,
      "metadata": {
        "id": "ZRggz7vNDtWi"
      },
      "outputs": [],
      "source": [
        ""
      ]
    },
    {
      "cell_type": "code",
      "execution_count": null,
      "metadata": {
        "id": "He51tapPDtWi"
      },
      "outputs": [],
      "source": [
        ""
      ]
    },
    {
      "cell_type": "code",
      "execution_count": null,
      "metadata": {
        "id": "EgLkwE5mDtWi"
      },
      "outputs": [],
      "source": [
        ""
      ]
    },
    {
      "cell_type": "code",
      "execution_count": null,
      "metadata": {
        "id": "nKPSOdV4DtWi"
      },
      "outputs": [],
      "source": [
        ""
      ]
    },
    {
      "cell_type": "code",
      "execution_count": null,
      "metadata": {
        "id": "1ryjhmtJDtWj"
      },
      "outputs": [],
      "source": [
        ""
      ]
    },
    {
      "cell_type": "code",
      "execution_count": null,
      "metadata": {
        "id": "bZ7jIq3dDtWj"
      },
      "outputs": [],
      "source": [
        ""
      ]
    },
    {
      "cell_type": "code",
      "execution_count": null,
      "metadata": {
        "id": "k6E_mafcDtWj"
      },
      "outputs": [],
      "source": [
        ""
      ]
    },
    {
      "cell_type": "code",
      "execution_count": null,
      "metadata": {
        "id": "xUPcO7n_DtWj"
      },
      "outputs": [],
      "source": [
        ""
      ]
    },
    {
      "cell_type": "code",
      "execution_count": null,
      "metadata": {
        "id": "eK43S5hrDtWj"
      },
      "outputs": [],
      "source": [
        ""
      ]
    },
    {
      "cell_type": "code",
      "execution_count": null,
      "metadata": {
        "id": "VAJaHsK5DtWj"
      },
      "outputs": [],
      "source": [
        ""
      ]
    },
    {
      "cell_type": "code",
      "execution_count": null,
      "metadata": {
        "id": "1F47FheyDtWj"
      },
      "outputs": [],
      "source": [
        ""
      ]
    }
  ],
  "metadata": {
    "kernelspec": {
      "display_name": "Python 3",
      "language": "python",
      "name": "python3"
    },
    "language_info": {
      "codemirror_mode": {
        "name": "ipython",
        "version": 3
      },
      "file_extension": ".py",
      "mimetype": "text/x-python",
      "name": "python",
      "nbconvert_exporter": "python",
      "pygments_lexer": "ipython3",
      "version": "3.8.3"
    },
    "varInspector": {
      "cols": {
        "lenName": 16,
        "lenType": 16,
        "lenVar": 40
      },
      "kernels_config": {
        "python": {
          "delete_cmd_postfix": "",
          "delete_cmd_prefix": "del ",
          "library": "var_list.py",
          "varRefreshCmd": "print(var_dic_list())"
        },
        "r": {
          "delete_cmd_postfix": ") ",
          "delete_cmd_prefix": "rm(",
          "library": "var_list.r",
          "varRefreshCmd": "cat(var_dic_list()) "
        }
      },
      "types_to_exclude": [
        "module",
        "function",
        "builtin_function_or_method",
        "instance",
        "_Feature"
      ],
      "window_display": false
    },
    "colab": {
      "name": "NeuronalNetworkFullConnected3layers_pytorch.ipynb",
      "provenance": [],
      "collapsed_sections": [
        "XKIX7PhJDtWV"
      ],
      "include_colab_link": true
    },
    "widgets": {
      "application/vnd.jupyter.widget-state+json": {
        "d3f0c508ad974eb69f0cb1cd7a420cea": {
          "model_module": "@jupyter-widgets/controls",
          "model_name": "HBoxModel",
          "model_module_version": "1.5.0",
          "state": {
            "_view_name": "HBoxView",
            "_dom_classes": [],
            "_model_name": "HBoxModel",
            "_view_module": "@jupyter-widgets/controls",
            "_model_module_version": "1.5.0",
            "_view_count": null,
            "_view_module_version": "1.5.0",
            "box_style": "",
            "layout": "IPY_MODEL_8655c2f1a41f4cd3a82e15bbfe306d40",
            "_model_module": "@jupyter-widgets/controls",
            "children": [
              "IPY_MODEL_643a35e576e64c2e964880aa9a1ecbaa",
              "IPY_MODEL_1a35e9191daa4ce3ae801c41d1fa15a5",
              "IPY_MODEL_e56bb2f97bf7487b8bbe8763e2b4bfe7"
            ]
          }
        },
        "8655c2f1a41f4cd3a82e15bbfe306d40": {
          "model_module": "@jupyter-widgets/base",
          "model_name": "LayoutModel",
          "model_module_version": "1.2.0",
          "state": {
            "_view_name": "LayoutView",
            "grid_template_rows": null,
            "right": null,
            "justify_content": null,
            "_view_module": "@jupyter-widgets/base",
            "overflow": null,
            "_model_module_version": "1.2.0",
            "_view_count": null,
            "flex_flow": null,
            "width": null,
            "min_width": null,
            "border": null,
            "align_items": null,
            "bottom": null,
            "_model_module": "@jupyter-widgets/base",
            "top": null,
            "grid_column": null,
            "overflow_y": null,
            "overflow_x": null,
            "grid_auto_flow": null,
            "grid_area": null,
            "grid_template_columns": null,
            "flex": null,
            "_model_name": "LayoutModel",
            "justify_items": null,
            "grid_row": null,
            "max_height": null,
            "align_content": null,
            "visibility": null,
            "align_self": null,
            "height": null,
            "min_height": null,
            "padding": null,
            "grid_auto_rows": null,
            "grid_gap": null,
            "max_width": null,
            "order": null,
            "_view_module_version": "1.2.0",
            "grid_template_areas": null,
            "object_position": null,
            "object_fit": null,
            "grid_auto_columns": null,
            "margin": null,
            "display": null,
            "left": null
          }
        },
        "643a35e576e64c2e964880aa9a1ecbaa": {
          "model_module": "@jupyter-widgets/controls",
          "model_name": "HTMLModel",
          "model_module_version": "1.5.0",
          "state": {
            "_view_name": "HTMLView",
            "style": "IPY_MODEL_14181bb66c3c45b6add63694ece0681b",
            "_dom_classes": [],
            "description": "",
            "_model_name": "HTMLModel",
            "placeholder": "​",
            "_view_module": "@jupyter-widgets/controls",
            "_model_module_version": "1.5.0",
            "value": "",
            "_view_count": null,
            "_view_module_version": "1.5.0",
            "description_tooltip": null,
            "_model_module": "@jupyter-widgets/controls",
            "layout": "IPY_MODEL_f5855bb145f44666b492f11f433bf154"
          }
        },
        "1a35e9191daa4ce3ae801c41d1fa15a5": {
          "model_module": "@jupyter-widgets/controls",
          "model_name": "FloatProgressModel",
          "model_module_version": "1.5.0",
          "state": {
            "_view_name": "ProgressView",
            "style": "IPY_MODEL_1978162ffbfa44d597fe304ced33620d",
            "_dom_classes": [],
            "description": "",
            "_model_name": "FloatProgressModel",
            "bar_style": "success",
            "max": 9912422,
            "_view_module": "@jupyter-widgets/controls",
            "_model_module_version": "1.5.0",
            "value": 9912422,
            "_view_count": null,
            "_view_module_version": "1.5.0",
            "orientation": "horizontal",
            "min": 0,
            "description_tooltip": null,
            "_model_module": "@jupyter-widgets/controls",
            "layout": "IPY_MODEL_3da7817240f442318070c322f97bd733"
          }
        },
        "e56bb2f97bf7487b8bbe8763e2b4bfe7": {
          "model_module": "@jupyter-widgets/controls",
          "model_name": "HTMLModel",
          "model_module_version": "1.5.0",
          "state": {
            "_view_name": "HTMLView",
            "style": "IPY_MODEL_df7367d4ddf74eed9f2ed656cca758b9",
            "_dom_classes": [],
            "description": "",
            "_model_name": "HTMLModel",
            "placeholder": "​",
            "_view_module": "@jupyter-widgets/controls",
            "_model_module_version": "1.5.0",
            "value": " 9913344/? [00:00&lt;00:00, 41551463.14it/s]",
            "_view_count": null,
            "_view_module_version": "1.5.0",
            "description_tooltip": null,
            "_model_module": "@jupyter-widgets/controls",
            "layout": "IPY_MODEL_2d677cf2ae8d4ec3b607910d1d1627d3"
          }
        },
        "14181bb66c3c45b6add63694ece0681b": {
          "model_module": "@jupyter-widgets/controls",
          "model_name": "DescriptionStyleModel",
          "model_module_version": "1.5.0",
          "state": {
            "_view_name": "StyleView",
            "_model_name": "DescriptionStyleModel",
            "description_width": "",
            "_view_module": "@jupyter-widgets/base",
            "_model_module_version": "1.5.0",
            "_view_count": null,
            "_view_module_version": "1.2.0",
            "_model_module": "@jupyter-widgets/controls"
          }
        },
        "f5855bb145f44666b492f11f433bf154": {
          "model_module": "@jupyter-widgets/base",
          "model_name": "LayoutModel",
          "model_module_version": "1.2.0",
          "state": {
            "_view_name": "LayoutView",
            "grid_template_rows": null,
            "right": null,
            "justify_content": null,
            "_view_module": "@jupyter-widgets/base",
            "overflow": null,
            "_model_module_version": "1.2.0",
            "_view_count": null,
            "flex_flow": null,
            "width": null,
            "min_width": null,
            "border": null,
            "align_items": null,
            "bottom": null,
            "_model_module": "@jupyter-widgets/base",
            "top": null,
            "grid_column": null,
            "overflow_y": null,
            "overflow_x": null,
            "grid_auto_flow": null,
            "grid_area": null,
            "grid_template_columns": null,
            "flex": null,
            "_model_name": "LayoutModel",
            "justify_items": null,
            "grid_row": null,
            "max_height": null,
            "align_content": null,
            "visibility": null,
            "align_self": null,
            "height": null,
            "min_height": null,
            "padding": null,
            "grid_auto_rows": null,
            "grid_gap": null,
            "max_width": null,
            "order": null,
            "_view_module_version": "1.2.0",
            "grid_template_areas": null,
            "object_position": null,
            "object_fit": null,
            "grid_auto_columns": null,
            "margin": null,
            "display": null,
            "left": null
          }
        },
        "1978162ffbfa44d597fe304ced33620d": {
          "model_module": "@jupyter-widgets/controls",
          "model_name": "ProgressStyleModel",
          "model_module_version": "1.5.0",
          "state": {
            "_view_name": "StyleView",
            "_model_name": "ProgressStyleModel",
            "description_width": "",
            "_view_module": "@jupyter-widgets/base",
            "_model_module_version": "1.5.0",
            "_view_count": null,
            "_view_module_version": "1.2.0",
            "bar_color": null,
            "_model_module": "@jupyter-widgets/controls"
          }
        },
        "3da7817240f442318070c322f97bd733": {
          "model_module": "@jupyter-widgets/base",
          "model_name": "LayoutModel",
          "model_module_version": "1.2.0",
          "state": {
            "_view_name": "LayoutView",
            "grid_template_rows": null,
            "right": null,
            "justify_content": null,
            "_view_module": "@jupyter-widgets/base",
            "overflow": null,
            "_model_module_version": "1.2.0",
            "_view_count": null,
            "flex_flow": null,
            "width": null,
            "min_width": null,
            "border": null,
            "align_items": null,
            "bottom": null,
            "_model_module": "@jupyter-widgets/base",
            "top": null,
            "grid_column": null,
            "overflow_y": null,
            "overflow_x": null,
            "grid_auto_flow": null,
            "grid_area": null,
            "grid_template_columns": null,
            "flex": null,
            "_model_name": "LayoutModel",
            "justify_items": null,
            "grid_row": null,
            "max_height": null,
            "align_content": null,
            "visibility": null,
            "align_self": null,
            "height": null,
            "min_height": null,
            "padding": null,
            "grid_auto_rows": null,
            "grid_gap": null,
            "max_width": null,
            "order": null,
            "_view_module_version": "1.2.0",
            "grid_template_areas": null,
            "object_position": null,
            "object_fit": null,
            "grid_auto_columns": null,
            "margin": null,
            "display": null,
            "left": null
          }
        },
        "df7367d4ddf74eed9f2ed656cca758b9": {
          "model_module": "@jupyter-widgets/controls",
          "model_name": "DescriptionStyleModel",
          "model_module_version": "1.5.0",
          "state": {
            "_view_name": "StyleView",
            "_model_name": "DescriptionStyleModel",
            "description_width": "",
            "_view_module": "@jupyter-widgets/base",
            "_model_module_version": "1.5.0",
            "_view_count": null,
            "_view_module_version": "1.2.0",
            "_model_module": "@jupyter-widgets/controls"
          }
        },
        "2d677cf2ae8d4ec3b607910d1d1627d3": {
          "model_module": "@jupyter-widgets/base",
          "model_name": "LayoutModel",
          "model_module_version": "1.2.0",
          "state": {
            "_view_name": "LayoutView",
            "grid_template_rows": null,
            "right": null,
            "justify_content": null,
            "_view_module": "@jupyter-widgets/base",
            "overflow": null,
            "_model_module_version": "1.2.0",
            "_view_count": null,
            "flex_flow": null,
            "width": null,
            "min_width": null,
            "border": null,
            "align_items": null,
            "bottom": null,
            "_model_module": "@jupyter-widgets/base",
            "top": null,
            "grid_column": null,
            "overflow_y": null,
            "overflow_x": null,
            "grid_auto_flow": null,
            "grid_area": null,
            "grid_template_columns": null,
            "flex": null,
            "_model_name": "LayoutModel",
            "justify_items": null,
            "grid_row": null,
            "max_height": null,
            "align_content": null,
            "visibility": null,
            "align_self": null,
            "height": null,
            "min_height": null,
            "padding": null,
            "grid_auto_rows": null,
            "grid_gap": null,
            "max_width": null,
            "order": null,
            "_view_module_version": "1.2.0",
            "grid_template_areas": null,
            "object_position": null,
            "object_fit": null,
            "grid_auto_columns": null,
            "margin": null,
            "display": null,
            "left": null
          }
        },
        "d09ae1785c154f21adecc43faa85e3b5": {
          "model_module": "@jupyter-widgets/controls",
          "model_name": "HBoxModel",
          "model_module_version": "1.5.0",
          "state": {
            "_view_name": "HBoxView",
            "_dom_classes": [],
            "_model_name": "HBoxModel",
            "_view_module": "@jupyter-widgets/controls",
            "_model_module_version": "1.5.0",
            "_view_count": null,
            "_view_module_version": "1.5.0",
            "box_style": "",
            "layout": "IPY_MODEL_ae20478553434586867fd9c1cfa9ca66",
            "_model_module": "@jupyter-widgets/controls",
            "children": [
              "IPY_MODEL_c9ae8e4a8cd644b79440866db44c2346",
              "IPY_MODEL_4a6851ff499a4b3c92241b6668313bb9",
              "IPY_MODEL_708ccdbe2b704ff2b4f9107c40c4d873"
            ]
          }
        },
        "ae20478553434586867fd9c1cfa9ca66": {
          "model_module": "@jupyter-widgets/base",
          "model_name": "LayoutModel",
          "model_module_version": "1.2.0",
          "state": {
            "_view_name": "LayoutView",
            "grid_template_rows": null,
            "right": null,
            "justify_content": null,
            "_view_module": "@jupyter-widgets/base",
            "overflow": null,
            "_model_module_version": "1.2.0",
            "_view_count": null,
            "flex_flow": null,
            "width": null,
            "min_width": null,
            "border": null,
            "align_items": null,
            "bottom": null,
            "_model_module": "@jupyter-widgets/base",
            "top": null,
            "grid_column": null,
            "overflow_y": null,
            "overflow_x": null,
            "grid_auto_flow": null,
            "grid_area": null,
            "grid_template_columns": null,
            "flex": null,
            "_model_name": "LayoutModel",
            "justify_items": null,
            "grid_row": null,
            "max_height": null,
            "align_content": null,
            "visibility": null,
            "align_self": null,
            "height": null,
            "min_height": null,
            "padding": null,
            "grid_auto_rows": null,
            "grid_gap": null,
            "max_width": null,
            "order": null,
            "_view_module_version": "1.2.0",
            "grid_template_areas": null,
            "object_position": null,
            "object_fit": null,
            "grid_auto_columns": null,
            "margin": null,
            "display": null,
            "left": null
          }
        },
        "c9ae8e4a8cd644b79440866db44c2346": {
          "model_module": "@jupyter-widgets/controls",
          "model_name": "HTMLModel",
          "model_module_version": "1.5.0",
          "state": {
            "_view_name": "HTMLView",
            "style": "IPY_MODEL_0e550602b54c4292ae5b77ad7d756cad",
            "_dom_classes": [],
            "description": "",
            "_model_name": "HTMLModel",
            "placeholder": "​",
            "_view_module": "@jupyter-widgets/controls",
            "_model_module_version": "1.5.0",
            "value": "",
            "_view_count": null,
            "_view_module_version": "1.5.0",
            "description_tooltip": null,
            "_model_module": "@jupyter-widgets/controls",
            "layout": "IPY_MODEL_f7b395d8581f45119c667155c8f4cf65"
          }
        },
        "4a6851ff499a4b3c92241b6668313bb9": {
          "model_module": "@jupyter-widgets/controls",
          "model_name": "FloatProgressModel",
          "model_module_version": "1.5.0",
          "state": {
            "_view_name": "ProgressView",
            "style": "IPY_MODEL_0a5f21d363814a6faa068a2ba113f13f",
            "_dom_classes": [],
            "description": "",
            "_model_name": "FloatProgressModel",
            "bar_style": "success",
            "max": 28881,
            "_view_module": "@jupyter-widgets/controls",
            "_model_module_version": "1.5.0",
            "value": 28881,
            "_view_count": null,
            "_view_module_version": "1.5.0",
            "orientation": "horizontal",
            "min": 0,
            "description_tooltip": null,
            "_model_module": "@jupyter-widgets/controls",
            "layout": "IPY_MODEL_8e004ac2b4aa496ba7fc0e502643b724"
          }
        },
        "708ccdbe2b704ff2b4f9107c40c4d873": {
          "model_module": "@jupyter-widgets/controls",
          "model_name": "HTMLModel",
          "model_module_version": "1.5.0",
          "state": {
            "_view_name": "HTMLView",
            "style": "IPY_MODEL_33eb123323c2458ca100c333847ec63f",
            "_dom_classes": [],
            "description": "",
            "_model_name": "HTMLModel",
            "placeholder": "​",
            "_view_module": "@jupyter-widgets/controls",
            "_model_module_version": "1.5.0",
            "value": " 29696/? [00:00&lt;00:00, 611245.23it/s]",
            "_view_count": null,
            "_view_module_version": "1.5.0",
            "description_tooltip": null,
            "_model_module": "@jupyter-widgets/controls",
            "layout": "IPY_MODEL_411769fa9dbd4a3d90613e2a636bd500"
          }
        },
        "0e550602b54c4292ae5b77ad7d756cad": {
          "model_module": "@jupyter-widgets/controls",
          "model_name": "DescriptionStyleModel",
          "model_module_version": "1.5.0",
          "state": {
            "_view_name": "StyleView",
            "_model_name": "DescriptionStyleModel",
            "description_width": "",
            "_view_module": "@jupyter-widgets/base",
            "_model_module_version": "1.5.0",
            "_view_count": null,
            "_view_module_version": "1.2.0",
            "_model_module": "@jupyter-widgets/controls"
          }
        },
        "f7b395d8581f45119c667155c8f4cf65": {
          "model_module": "@jupyter-widgets/base",
          "model_name": "LayoutModel",
          "model_module_version": "1.2.0",
          "state": {
            "_view_name": "LayoutView",
            "grid_template_rows": null,
            "right": null,
            "justify_content": null,
            "_view_module": "@jupyter-widgets/base",
            "overflow": null,
            "_model_module_version": "1.2.0",
            "_view_count": null,
            "flex_flow": null,
            "width": null,
            "min_width": null,
            "border": null,
            "align_items": null,
            "bottom": null,
            "_model_module": "@jupyter-widgets/base",
            "top": null,
            "grid_column": null,
            "overflow_y": null,
            "overflow_x": null,
            "grid_auto_flow": null,
            "grid_area": null,
            "grid_template_columns": null,
            "flex": null,
            "_model_name": "LayoutModel",
            "justify_items": null,
            "grid_row": null,
            "max_height": null,
            "align_content": null,
            "visibility": null,
            "align_self": null,
            "height": null,
            "min_height": null,
            "padding": null,
            "grid_auto_rows": null,
            "grid_gap": null,
            "max_width": null,
            "order": null,
            "_view_module_version": "1.2.0",
            "grid_template_areas": null,
            "object_position": null,
            "object_fit": null,
            "grid_auto_columns": null,
            "margin": null,
            "display": null,
            "left": null
          }
        },
        "0a5f21d363814a6faa068a2ba113f13f": {
          "model_module": "@jupyter-widgets/controls",
          "model_name": "ProgressStyleModel",
          "model_module_version": "1.5.0",
          "state": {
            "_view_name": "StyleView",
            "_model_name": "ProgressStyleModel",
            "description_width": "",
            "_view_module": "@jupyter-widgets/base",
            "_model_module_version": "1.5.0",
            "_view_count": null,
            "_view_module_version": "1.2.0",
            "bar_color": null,
            "_model_module": "@jupyter-widgets/controls"
          }
        },
        "8e004ac2b4aa496ba7fc0e502643b724": {
          "model_module": "@jupyter-widgets/base",
          "model_name": "LayoutModel",
          "model_module_version": "1.2.0",
          "state": {
            "_view_name": "LayoutView",
            "grid_template_rows": null,
            "right": null,
            "justify_content": null,
            "_view_module": "@jupyter-widgets/base",
            "overflow": null,
            "_model_module_version": "1.2.0",
            "_view_count": null,
            "flex_flow": null,
            "width": null,
            "min_width": null,
            "border": null,
            "align_items": null,
            "bottom": null,
            "_model_module": "@jupyter-widgets/base",
            "top": null,
            "grid_column": null,
            "overflow_y": null,
            "overflow_x": null,
            "grid_auto_flow": null,
            "grid_area": null,
            "grid_template_columns": null,
            "flex": null,
            "_model_name": "LayoutModel",
            "justify_items": null,
            "grid_row": null,
            "max_height": null,
            "align_content": null,
            "visibility": null,
            "align_self": null,
            "height": null,
            "min_height": null,
            "padding": null,
            "grid_auto_rows": null,
            "grid_gap": null,
            "max_width": null,
            "order": null,
            "_view_module_version": "1.2.0",
            "grid_template_areas": null,
            "object_position": null,
            "object_fit": null,
            "grid_auto_columns": null,
            "margin": null,
            "display": null,
            "left": null
          }
        },
        "33eb123323c2458ca100c333847ec63f": {
          "model_module": "@jupyter-widgets/controls",
          "model_name": "DescriptionStyleModel",
          "model_module_version": "1.5.0",
          "state": {
            "_view_name": "StyleView",
            "_model_name": "DescriptionStyleModel",
            "description_width": "",
            "_view_module": "@jupyter-widgets/base",
            "_model_module_version": "1.5.0",
            "_view_count": null,
            "_view_module_version": "1.2.0",
            "_model_module": "@jupyter-widgets/controls"
          }
        },
        "411769fa9dbd4a3d90613e2a636bd500": {
          "model_module": "@jupyter-widgets/base",
          "model_name": "LayoutModel",
          "model_module_version": "1.2.0",
          "state": {
            "_view_name": "LayoutView",
            "grid_template_rows": null,
            "right": null,
            "justify_content": null,
            "_view_module": "@jupyter-widgets/base",
            "overflow": null,
            "_model_module_version": "1.2.0",
            "_view_count": null,
            "flex_flow": null,
            "width": null,
            "min_width": null,
            "border": null,
            "align_items": null,
            "bottom": null,
            "_model_module": "@jupyter-widgets/base",
            "top": null,
            "grid_column": null,
            "overflow_y": null,
            "overflow_x": null,
            "grid_auto_flow": null,
            "grid_area": null,
            "grid_template_columns": null,
            "flex": null,
            "_model_name": "LayoutModel",
            "justify_items": null,
            "grid_row": null,
            "max_height": null,
            "align_content": null,
            "visibility": null,
            "align_self": null,
            "height": null,
            "min_height": null,
            "padding": null,
            "grid_auto_rows": null,
            "grid_gap": null,
            "max_width": null,
            "order": null,
            "_view_module_version": "1.2.0",
            "grid_template_areas": null,
            "object_position": null,
            "object_fit": null,
            "grid_auto_columns": null,
            "margin": null,
            "display": null,
            "left": null
          }
        },
        "c7fc55df3b61461bad74d14ee5d55766": {
          "model_module": "@jupyter-widgets/controls",
          "model_name": "HBoxModel",
          "model_module_version": "1.5.0",
          "state": {
            "_view_name": "HBoxView",
            "_dom_classes": [],
            "_model_name": "HBoxModel",
            "_view_module": "@jupyter-widgets/controls",
            "_model_module_version": "1.5.0",
            "_view_count": null,
            "_view_module_version": "1.5.0",
            "box_style": "",
            "layout": "IPY_MODEL_aed69ca9311d41bb9fac563f01a82b9f",
            "_model_module": "@jupyter-widgets/controls",
            "children": [
              "IPY_MODEL_0b518b81374d4a25996b306555a04c51",
              "IPY_MODEL_c2aa4259730844fd88bb954fde63029f",
              "IPY_MODEL_6eace5062d2047d683590ee5c4afc254"
            ]
          }
        },
        "aed69ca9311d41bb9fac563f01a82b9f": {
          "model_module": "@jupyter-widgets/base",
          "model_name": "LayoutModel",
          "model_module_version": "1.2.0",
          "state": {
            "_view_name": "LayoutView",
            "grid_template_rows": null,
            "right": null,
            "justify_content": null,
            "_view_module": "@jupyter-widgets/base",
            "overflow": null,
            "_model_module_version": "1.2.0",
            "_view_count": null,
            "flex_flow": null,
            "width": null,
            "min_width": null,
            "border": null,
            "align_items": null,
            "bottom": null,
            "_model_module": "@jupyter-widgets/base",
            "top": null,
            "grid_column": null,
            "overflow_y": null,
            "overflow_x": null,
            "grid_auto_flow": null,
            "grid_area": null,
            "grid_template_columns": null,
            "flex": null,
            "_model_name": "LayoutModel",
            "justify_items": null,
            "grid_row": null,
            "max_height": null,
            "align_content": null,
            "visibility": null,
            "align_self": null,
            "height": null,
            "min_height": null,
            "padding": null,
            "grid_auto_rows": null,
            "grid_gap": null,
            "max_width": null,
            "order": null,
            "_view_module_version": "1.2.0",
            "grid_template_areas": null,
            "object_position": null,
            "object_fit": null,
            "grid_auto_columns": null,
            "margin": null,
            "display": null,
            "left": null
          }
        },
        "0b518b81374d4a25996b306555a04c51": {
          "model_module": "@jupyter-widgets/controls",
          "model_name": "HTMLModel",
          "model_module_version": "1.5.0",
          "state": {
            "_view_name": "HTMLView",
            "style": "IPY_MODEL_1c2feb5b5647429287970d9338dae207",
            "_dom_classes": [],
            "description": "",
            "_model_name": "HTMLModel",
            "placeholder": "​",
            "_view_module": "@jupyter-widgets/controls",
            "_model_module_version": "1.5.0",
            "value": "",
            "_view_count": null,
            "_view_module_version": "1.5.0",
            "description_tooltip": null,
            "_model_module": "@jupyter-widgets/controls",
            "layout": "IPY_MODEL_feecd04f16234a28bfd7a6aeb4a81da3"
          }
        },
        "c2aa4259730844fd88bb954fde63029f": {
          "model_module": "@jupyter-widgets/controls",
          "model_name": "FloatProgressModel",
          "model_module_version": "1.5.0",
          "state": {
            "_view_name": "ProgressView",
            "style": "IPY_MODEL_54750b1fcd634490a183ea7cc2565058",
            "_dom_classes": [],
            "description": "",
            "_model_name": "FloatProgressModel",
            "bar_style": "success",
            "max": 1648877,
            "_view_module": "@jupyter-widgets/controls",
            "_model_module_version": "1.5.0",
            "value": 1648877,
            "_view_count": null,
            "_view_module_version": "1.5.0",
            "orientation": "horizontal",
            "min": 0,
            "description_tooltip": null,
            "_model_module": "@jupyter-widgets/controls",
            "layout": "IPY_MODEL_96082f76150841b8b13af968e11eff05"
          }
        },
        "6eace5062d2047d683590ee5c4afc254": {
          "model_module": "@jupyter-widgets/controls",
          "model_name": "HTMLModel",
          "model_module_version": "1.5.0",
          "state": {
            "_view_name": "HTMLView",
            "style": "IPY_MODEL_8d43006a6fcf4611a40853aba9513d06",
            "_dom_classes": [],
            "description": "",
            "_model_name": "HTMLModel",
            "placeholder": "​",
            "_view_module": "@jupyter-widgets/controls",
            "_model_module_version": "1.5.0",
            "value": " 1649664/? [00:00&lt;00:00, 5902961.56it/s]",
            "_view_count": null,
            "_view_module_version": "1.5.0",
            "description_tooltip": null,
            "_model_module": "@jupyter-widgets/controls",
            "layout": "IPY_MODEL_a5c6ac30a0bd4d5f88b6154ea4b95127"
          }
        },
        "1c2feb5b5647429287970d9338dae207": {
          "model_module": "@jupyter-widgets/controls",
          "model_name": "DescriptionStyleModel",
          "model_module_version": "1.5.0",
          "state": {
            "_view_name": "StyleView",
            "_model_name": "DescriptionStyleModel",
            "description_width": "",
            "_view_module": "@jupyter-widgets/base",
            "_model_module_version": "1.5.0",
            "_view_count": null,
            "_view_module_version": "1.2.0",
            "_model_module": "@jupyter-widgets/controls"
          }
        },
        "feecd04f16234a28bfd7a6aeb4a81da3": {
          "model_module": "@jupyter-widgets/base",
          "model_name": "LayoutModel",
          "model_module_version": "1.2.0",
          "state": {
            "_view_name": "LayoutView",
            "grid_template_rows": null,
            "right": null,
            "justify_content": null,
            "_view_module": "@jupyter-widgets/base",
            "overflow": null,
            "_model_module_version": "1.2.0",
            "_view_count": null,
            "flex_flow": null,
            "width": null,
            "min_width": null,
            "border": null,
            "align_items": null,
            "bottom": null,
            "_model_module": "@jupyter-widgets/base",
            "top": null,
            "grid_column": null,
            "overflow_y": null,
            "overflow_x": null,
            "grid_auto_flow": null,
            "grid_area": null,
            "grid_template_columns": null,
            "flex": null,
            "_model_name": "LayoutModel",
            "justify_items": null,
            "grid_row": null,
            "max_height": null,
            "align_content": null,
            "visibility": null,
            "align_self": null,
            "height": null,
            "min_height": null,
            "padding": null,
            "grid_auto_rows": null,
            "grid_gap": null,
            "max_width": null,
            "order": null,
            "_view_module_version": "1.2.0",
            "grid_template_areas": null,
            "object_position": null,
            "object_fit": null,
            "grid_auto_columns": null,
            "margin": null,
            "display": null,
            "left": null
          }
        },
        "54750b1fcd634490a183ea7cc2565058": {
          "model_module": "@jupyter-widgets/controls",
          "model_name": "ProgressStyleModel",
          "model_module_version": "1.5.0",
          "state": {
            "_view_name": "StyleView",
            "_model_name": "ProgressStyleModel",
            "description_width": "",
            "_view_module": "@jupyter-widgets/base",
            "_model_module_version": "1.5.0",
            "_view_count": null,
            "_view_module_version": "1.2.0",
            "bar_color": null,
            "_model_module": "@jupyter-widgets/controls"
          }
        },
        "96082f76150841b8b13af968e11eff05": {
          "model_module": "@jupyter-widgets/base",
          "model_name": "LayoutModel",
          "model_module_version": "1.2.0",
          "state": {
            "_view_name": "LayoutView",
            "grid_template_rows": null,
            "right": null,
            "justify_content": null,
            "_view_module": "@jupyter-widgets/base",
            "overflow": null,
            "_model_module_version": "1.2.0",
            "_view_count": null,
            "flex_flow": null,
            "width": null,
            "min_width": null,
            "border": null,
            "align_items": null,
            "bottom": null,
            "_model_module": "@jupyter-widgets/base",
            "top": null,
            "grid_column": null,
            "overflow_y": null,
            "overflow_x": null,
            "grid_auto_flow": null,
            "grid_area": null,
            "grid_template_columns": null,
            "flex": null,
            "_model_name": "LayoutModel",
            "justify_items": null,
            "grid_row": null,
            "max_height": null,
            "align_content": null,
            "visibility": null,
            "align_self": null,
            "height": null,
            "min_height": null,
            "padding": null,
            "grid_auto_rows": null,
            "grid_gap": null,
            "max_width": null,
            "order": null,
            "_view_module_version": "1.2.0",
            "grid_template_areas": null,
            "object_position": null,
            "object_fit": null,
            "grid_auto_columns": null,
            "margin": null,
            "display": null,
            "left": null
          }
        },
        "8d43006a6fcf4611a40853aba9513d06": {
          "model_module": "@jupyter-widgets/controls",
          "model_name": "DescriptionStyleModel",
          "model_module_version": "1.5.0",
          "state": {
            "_view_name": "StyleView",
            "_model_name": "DescriptionStyleModel",
            "description_width": "",
            "_view_module": "@jupyter-widgets/base",
            "_model_module_version": "1.5.0",
            "_view_count": null,
            "_view_module_version": "1.2.0",
            "_model_module": "@jupyter-widgets/controls"
          }
        },
        "a5c6ac30a0bd4d5f88b6154ea4b95127": {
          "model_module": "@jupyter-widgets/base",
          "model_name": "LayoutModel",
          "model_module_version": "1.2.0",
          "state": {
            "_view_name": "LayoutView",
            "grid_template_rows": null,
            "right": null,
            "justify_content": null,
            "_view_module": "@jupyter-widgets/base",
            "overflow": null,
            "_model_module_version": "1.2.0",
            "_view_count": null,
            "flex_flow": null,
            "width": null,
            "min_width": null,
            "border": null,
            "align_items": null,
            "bottom": null,
            "_model_module": "@jupyter-widgets/base",
            "top": null,
            "grid_column": null,
            "overflow_y": null,
            "overflow_x": null,
            "grid_auto_flow": null,
            "grid_area": null,
            "grid_template_columns": null,
            "flex": null,
            "_model_name": "LayoutModel",
            "justify_items": null,
            "grid_row": null,
            "max_height": null,
            "align_content": null,
            "visibility": null,
            "align_self": null,
            "height": null,
            "min_height": null,
            "padding": null,
            "grid_auto_rows": null,
            "grid_gap": null,
            "max_width": null,
            "order": null,
            "_view_module_version": "1.2.0",
            "grid_template_areas": null,
            "object_position": null,
            "object_fit": null,
            "grid_auto_columns": null,
            "margin": null,
            "display": null,
            "left": null
          }
        },
        "42ba89b5c5f0490f81b4fc3a9ad91c1f": {
          "model_module": "@jupyter-widgets/controls",
          "model_name": "HBoxModel",
          "model_module_version": "1.5.0",
          "state": {
            "_view_name": "HBoxView",
            "_dom_classes": [],
            "_model_name": "HBoxModel",
            "_view_module": "@jupyter-widgets/controls",
            "_model_module_version": "1.5.0",
            "_view_count": null,
            "_view_module_version": "1.5.0",
            "box_style": "",
            "layout": "IPY_MODEL_b7c3f555000e4005ae6ac4f0a3e1b631",
            "_model_module": "@jupyter-widgets/controls",
            "children": [
              "IPY_MODEL_0499561b25c44c1f99336f2933be1e3c",
              "IPY_MODEL_53a5a2c4682c4f8f9bf90b2a559426d6",
              "IPY_MODEL_d7b08f740cf5465c8471c4c1efa2e80c"
            ]
          }
        },
        "b7c3f555000e4005ae6ac4f0a3e1b631": {
          "model_module": "@jupyter-widgets/base",
          "model_name": "LayoutModel",
          "model_module_version": "1.2.0",
          "state": {
            "_view_name": "LayoutView",
            "grid_template_rows": null,
            "right": null,
            "justify_content": null,
            "_view_module": "@jupyter-widgets/base",
            "overflow": null,
            "_model_module_version": "1.2.0",
            "_view_count": null,
            "flex_flow": null,
            "width": null,
            "min_width": null,
            "border": null,
            "align_items": null,
            "bottom": null,
            "_model_module": "@jupyter-widgets/base",
            "top": null,
            "grid_column": null,
            "overflow_y": null,
            "overflow_x": null,
            "grid_auto_flow": null,
            "grid_area": null,
            "grid_template_columns": null,
            "flex": null,
            "_model_name": "LayoutModel",
            "justify_items": null,
            "grid_row": null,
            "max_height": null,
            "align_content": null,
            "visibility": null,
            "align_self": null,
            "height": null,
            "min_height": null,
            "padding": null,
            "grid_auto_rows": null,
            "grid_gap": null,
            "max_width": null,
            "order": null,
            "_view_module_version": "1.2.0",
            "grid_template_areas": null,
            "object_position": null,
            "object_fit": null,
            "grid_auto_columns": null,
            "margin": null,
            "display": null,
            "left": null
          }
        },
        "0499561b25c44c1f99336f2933be1e3c": {
          "model_module": "@jupyter-widgets/controls",
          "model_name": "HTMLModel",
          "model_module_version": "1.5.0",
          "state": {
            "_view_name": "HTMLView",
            "style": "IPY_MODEL_c79fd7acf83641f986313cf77c10d8c1",
            "_dom_classes": [],
            "description": "",
            "_model_name": "HTMLModel",
            "placeholder": "​",
            "_view_module": "@jupyter-widgets/controls",
            "_model_module_version": "1.5.0",
            "value": "",
            "_view_count": null,
            "_view_module_version": "1.5.0",
            "description_tooltip": null,
            "_model_module": "@jupyter-widgets/controls",
            "layout": "IPY_MODEL_34da03ed26414177adb39812599c6950"
          }
        },
        "53a5a2c4682c4f8f9bf90b2a559426d6": {
          "model_module": "@jupyter-widgets/controls",
          "model_name": "FloatProgressModel",
          "model_module_version": "1.5.0",
          "state": {
            "_view_name": "ProgressView",
            "style": "IPY_MODEL_146579730b9a476bb265fa24fd90758c",
            "_dom_classes": [],
            "description": "",
            "_model_name": "FloatProgressModel",
            "bar_style": "success",
            "max": 4542,
            "_view_module": "@jupyter-widgets/controls",
            "_model_module_version": "1.5.0",
            "value": 4542,
            "_view_count": null,
            "_view_module_version": "1.5.0",
            "orientation": "horizontal",
            "min": 0,
            "description_tooltip": null,
            "_model_module": "@jupyter-widgets/controls",
            "layout": "IPY_MODEL_ce2f2fb0d1564a2fbec6ffa4f9d41ea2"
          }
        },
        "d7b08f740cf5465c8471c4c1efa2e80c": {
          "model_module": "@jupyter-widgets/controls",
          "model_name": "HTMLModel",
          "model_module_version": "1.5.0",
          "state": {
            "_view_name": "HTMLView",
            "style": "IPY_MODEL_ff354f58f3c7471c89456a88a1f43b7b",
            "_dom_classes": [],
            "description": "",
            "_model_name": "HTMLModel",
            "placeholder": "​",
            "_view_module": "@jupyter-widgets/controls",
            "_model_module_version": "1.5.0",
            "value": " 5120/? [00:00&lt;00:00, 84831.49it/s]",
            "_view_count": null,
            "_view_module_version": "1.5.0",
            "description_tooltip": null,
            "_model_module": "@jupyter-widgets/controls",
            "layout": "IPY_MODEL_2b03b60323c840ef8d416cd77278ad78"
          }
        },
        "c79fd7acf83641f986313cf77c10d8c1": {
          "model_module": "@jupyter-widgets/controls",
          "model_name": "DescriptionStyleModel",
          "model_module_version": "1.5.0",
          "state": {
            "_view_name": "StyleView",
            "_model_name": "DescriptionStyleModel",
            "description_width": "",
            "_view_module": "@jupyter-widgets/base",
            "_model_module_version": "1.5.0",
            "_view_count": null,
            "_view_module_version": "1.2.0",
            "_model_module": "@jupyter-widgets/controls"
          }
        },
        "34da03ed26414177adb39812599c6950": {
          "model_module": "@jupyter-widgets/base",
          "model_name": "LayoutModel",
          "model_module_version": "1.2.0",
          "state": {
            "_view_name": "LayoutView",
            "grid_template_rows": null,
            "right": null,
            "justify_content": null,
            "_view_module": "@jupyter-widgets/base",
            "overflow": null,
            "_model_module_version": "1.2.0",
            "_view_count": null,
            "flex_flow": null,
            "width": null,
            "min_width": null,
            "border": null,
            "align_items": null,
            "bottom": null,
            "_model_module": "@jupyter-widgets/base",
            "top": null,
            "grid_column": null,
            "overflow_y": null,
            "overflow_x": null,
            "grid_auto_flow": null,
            "grid_area": null,
            "grid_template_columns": null,
            "flex": null,
            "_model_name": "LayoutModel",
            "justify_items": null,
            "grid_row": null,
            "max_height": null,
            "align_content": null,
            "visibility": null,
            "align_self": null,
            "height": null,
            "min_height": null,
            "padding": null,
            "grid_auto_rows": null,
            "grid_gap": null,
            "max_width": null,
            "order": null,
            "_view_module_version": "1.2.0",
            "grid_template_areas": null,
            "object_position": null,
            "object_fit": null,
            "grid_auto_columns": null,
            "margin": null,
            "display": null,
            "left": null
          }
        },
        "146579730b9a476bb265fa24fd90758c": {
          "model_module": "@jupyter-widgets/controls",
          "model_name": "ProgressStyleModel",
          "model_module_version": "1.5.0",
          "state": {
            "_view_name": "StyleView",
            "_model_name": "ProgressStyleModel",
            "description_width": "",
            "_view_module": "@jupyter-widgets/base",
            "_model_module_version": "1.5.0",
            "_view_count": null,
            "_view_module_version": "1.2.0",
            "bar_color": null,
            "_model_module": "@jupyter-widgets/controls"
          }
        },
        "ce2f2fb0d1564a2fbec6ffa4f9d41ea2": {
          "model_module": "@jupyter-widgets/base",
          "model_name": "LayoutModel",
          "model_module_version": "1.2.0",
          "state": {
            "_view_name": "LayoutView",
            "grid_template_rows": null,
            "right": null,
            "justify_content": null,
            "_view_module": "@jupyter-widgets/base",
            "overflow": null,
            "_model_module_version": "1.2.0",
            "_view_count": null,
            "flex_flow": null,
            "width": null,
            "min_width": null,
            "border": null,
            "align_items": null,
            "bottom": null,
            "_model_module": "@jupyter-widgets/base",
            "top": null,
            "grid_column": null,
            "overflow_y": null,
            "overflow_x": null,
            "grid_auto_flow": null,
            "grid_area": null,
            "grid_template_columns": null,
            "flex": null,
            "_model_name": "LayoutModel",
            "justify_items": null,
            "grid_row": null,
            "max_height": null,
            "align_content": null,
            "visibility": null,
            "align_self": null,
            "height": null,
            "min_height": null,
            "padding": null,
            "grid_auto_rows": null,
            "grid_gap": null,
            "max_width": null,
            "order": null,
            "_view_module_version": "1.2.0",
            "grid_template_areas": null,
            "object_position": null,
            "object_fit": null,
            "grid_auto_columns": null,
            "margin": null,
            "display": null,
            "left": null
          }
        },
        "ff354f58f3c7471c89456a88a1f43b7b": {
          "model_module": "@jupyter-widgets/controls",
          "model_name": "DescriptionStyleModel",
          "model_module_version": "1.5.0",
          "state": {
            "_view_name": "StyleView",
            "_model_name": "DescriptionStyleModel",
            "description_width": "",
            "_view_module": "@jupyter-widgets/base",
            "_model_module_version": "1.5.0",
            "_view_count": null,
            "_view_module_version": "1.2.0",
            "_model_module": "@jupyter-widgets/controls"
          }
        },
        "2b03b60323c840ef8d416cd77278ad78": {
          "model_module": "@jupyter-widgets/base",
          "model_name": "LayoutModel",
          "model_module_version": "1.2.0",
          "state": {
            "_view_name": "LayoutView",
            "grid_template_rows": null,
            "right": null,
            "justify_content": null,
            "_view_module": "@jupyter-widgets/base",
            "overflow": null,
            "_model_module_version": "1.2.0",
            "_view_count": null,
            "flex_flow": null,
            "width": null,
            "min_width": null,
            "border": null,
            "align_items": null,
            "bottom": null,
            "_model_module": "@jupyter-widgets/base",
            "top": null,
            "grid_column": null,
            "overflow_y": null,
            "overflow_x": null,
            "grid_auto_flow": null,
            "grid_area": null,
            "grid_template_columns": null,
            "flex": null,
            "_model_name": "LayoutModel",
            "justify_items": null,
            "grid_row": null,
            "max_height": null,
            "align_content": null,
            "visibility": null,
            "align_self": null,
            "height": null,
            "min_height": null,
            "padding": null,
            "grid_auto_rows": null,
            "grid_gap": null,
            "max_width": null,
            "order": null,
            "_view_module_version": "1.2.0",
            "grid_template_areas": null,
            "object_position": null,
            "object_fit": null,
            "grid_auto_columns": null,
            "margin": null,
            "display": null,
            "left": null
          }
        }
      }
    }
  },
  "nbformat": 4,
  "nbformat_minor": 0
}