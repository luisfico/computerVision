{
  "nbformat": 4,
  "nbformat_minor": 0,
  "metadata": {
    "colab": {
      "name": "edgeDetection.ipynb",
      "provenance": [],
      "collapsed_sections": [],
      "toc_visible": true,
      "include_colab_link": true
    },
    "kernelspec": {
      "display_name": "Python 3",
      "name": "python3"
    },
    "language_info": {
      "name": "python"
    }
  },
  "cells": [
    {
      "cell_type": "markdown",
      "metadata": {
        "id": "view-in-github",
        "colab_type": "text"
      },
      "source": [
        "<a href=\"https://colab.research.google.com/github/luisfico/computerVision/blob/main/edgeDetection.ipynb\" target=\"_parent\"><img src=\"https://colab.research.google.com/assets/colab-badge.svg\" alt=\"Open In Colab\"/></a>"
      ]
    },
    {
      "cell_type": "markdown",
      "metadata": {
        "id": "MIBzKz6RoGOs"
      },
      "source": [
        "[![Open in Colab](https://colab.research.google.com/assets/colab-badge.svg)](https://colab.sandbox.google.com/github/kornia/tutorials/blob/master/source/canny.ipynb)\n",
        "\n",
        "Obtaining Edges using the Canny operator\n",
        "======================================\n",
        "\n",
        "In this tutorial we show how easily one can apply the typical canny edge detection using Kornia.\n",
        "\n",
        "Enjoy the example!"
      ]
    },
    {
      "cell_type": "markdown",
      "metadata": {
        "id": "q0ZWzCyDo8wr"
      },
      "source": [
        "Preparation\n",
        "---------------"
      ]
    },
    {
      "cell_type": "markdown",
      "metadata": {
        "id": "jnSpxwMDk8Ik"
      },
      "source": [
        "Now we download the example image."
      ]
    },
    {
      "cell_type": "code",
      "metadata": {
        "id": "engDHU-WUtrs"
      },
      "source": [
        "%%capture\n",
        "!wget -O paranoia_agent.jpg https://ih1.redbubble.net/image.675644909.6235/flat,800x800,075,f.u3.jpg"
      ],
      "execution_count": 1,
      "outputs": []
    },
    {
      "cell_type": "markdown",
      "metadata": {
        "id": "jxFDOCekpDqv"
      },
      "source": [
        "Example\n",
        "-----------\n",
        "\n",
        "Metodos para hacer convolucion :"
      ]
    },
    {
      "cell_type": "code",
      "source": [
        "import numpy as np\n",
        "import cv2\n",
        "import matplotlib.pyplot as plt\n",
        "\n",
        "def convolution(image, kernel, average=False, verbose=False):\n",
        "    if len(image.shape) == 3:\n",
        "        print(\"Found 3 Channels : {}\".format(image.shape))\n",
        "        image = cv2.cvtColor(image, cv2.COLOR_BGR2GRAY)\n",
        "        print(\"Converted to Gray Channel. Size : {}\".format(image.shape))\n",
        "    else:\n",
        "        print(\"Image Shape : {}\".format(image.shape))\n",
        "\n",
        "    print(\"Kernel Shape : {}\".format(kernel.shape))\n",
        "\n",
        "    if verbose:\n",
        "        plt.imshow(image, cmap='gray')\n",
        "        plt.title(\"Image\")\n",
        "        plt.show()\n",
        "\n",
        "    image_row, image_col = image.shape\n",
        "    kernel_row, kernel_col = kernel.shape\n",
        "\n",
        "    output = np.zeros(image.shape)\n",
        "\n",
        "    pad_height = int((kernel_row - 1) / 2)\n",
        "    pad_width = int((kernel_col - 1) / 2)\n",
        "\n",
        "    padded_image = np.zeros((image_row + (2 * pad_height), image_col + (2 * pad_width)))\n",
        "\n",
        "    padded_image[pad_height:padded_image.shape[0] - pad_height, pad_width:padded_image.shape[1] - pad_width] = image\n",
        "\n",
        "    if verbose:\n",
        "        plt.imshow(padded_image, cmap='gray')\n",
        "        plt.title(\"Padded Image\")\n",
        "        plt.show()\n",
        "\n",
        "    #aqui esTA LA CONVOLUTION!!!!!!!\n",
        "    for row in range(image_row):\n",
        "        for col in range(image_col):\n",
        "            output[row, col] = np.sum(kernel * padded_image[row:row + kernel_row, col:col + kernel_col])\n",
        "            if average:\n",
        "                output[row, col] /= kernel.shape[0] * kernel.shape[1]\n",
        "\n",
        "    print(\"Output Image size : {}\".format(output.shape))\n",
        "\n",
        "\n",
        "    if verbose:\n",
        "        plt.imshow(output, cmap='gray')\n",
        "        plt.title(\"Output Image using {}X{} Kernel\".format(kernel_row, kernel_col))\n",
        "        plt.show()\n",
        "\n",
        "    return output\n",
        "\n",
        "\n",
        "def apply_kernel(image, kernel_2D, verbose=False):\n",
        "\n",
        "    kernel_row, kernel_col = kernel_2D.shape\n",
        "    if verbose:\n",
        "        plt.imshow(kernel_2D, interpolation='none', cmap='gray')\n",
        "        plt.title(\"Kernel ( {}X{} )\".format(kernel_row, kernel_col))\n",
        "        plt.show()\n",
        "\n",
        "    return convolution(image, kernel_2D, average=True, verbose=verbose)\n",
        "\n"
      ],
      "metadata": {
        "id": "5myrd5eU3Ccw"
      },
      "execution_count": 4,
      "outputs": []
    },
    {
      "cell_type": "markdown",
      "source": [
        "main example\n"
      ],
      "metadata": {
        "id": "B4cEVBDJ3Itc"
      }
    },
    {
      "cell_type": "code",
      "source": [
        "\n",
        "if __name__ == '__main__':\n",
        "    \n",
        "\n",
        "    \n",
        "    image = cv2.imread('./paranoia_agent.jpg')\n",
        "\n",
        "    kernel_2DgradientHorizontal = np.array([[1, 1, 1],[0, 0, 0],[-1, -1,-1]])\n",
        "    outputImgH=apply_kernel(image, kernel_2DgradientHorizontal,verbose=True)\n",
        "    cv2.imwrite(\"outputH.png\",outputImgH)\n",
        "\n",
        "    kernel_2DgradientVertical = np.array([[1, 0,-1],[1, 0,-1],[1, 0,-1]])\n",
        "    outputImgV=apply_kernel(image, kernel_2DgradientVertical,verbose=True)\n",
        "    cv2.imwrite(\"outputV.png\",outputImgV)\n",
        "\n",
        "    #Fuse vertical edges + horizontal edges\n",
        "    outputImgVH=outputImgH+outputImgV\n",
        "    cv2.imwrite(\"outputV+H.png\",outputImgVH)\n",
        "\n",
        "    plt.figure(0) # Here's the part I need\n",
        "    plt.imshow(outputImgH, cmap='gray')\n",
        "    plt.title(\"Output Image using {}X{} Kernel horizontal edges\")\n",
        "    #plt.show()\n",
        "\n",
        "    plt.figure(1) # Here's the part I need\n",
        "    plt.imshow(outputImgV, cmap='gray')\n",
        "    plt.title(\"Output Image using {}X{} Kernel vertical edges\")\n",
        "    #plt.show()\n",
        "\n",
        "    plt.figure(2) # Here's the part I need\n",
        "    plt.imshow(outputImgVH, cmap='gray')\n",
        "    plt.title(\"Output Image using {}X{} Kernel vertical + horizontal edges\")\n",
        "    plt.show()"
      ],
      "metadata": {
        "id": "PLDLEVnW3Jvw"
      },
      "execution_count": null,
      "outputs": []
    }
  ]
}