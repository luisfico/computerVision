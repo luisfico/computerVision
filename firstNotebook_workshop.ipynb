{
  "cells": [
    {
      "cell_type": "markdown",
      "metadata": {
        "id": "view-in-github",
        "colab_type": "text"
      },
      "source": [
        "<a href=\"https://colab.research.google.com/github/luisfico/computerVision/blob/main/firstNotebook_workshop.ipynb\" target=\"_parent\"><img src=\"https://colab.research.google.com/assets/colab-badge.svg\" alt=\"Open In Colab\"/></a>"
      ]
    },
    {
      "cell_type": "markdown",
      "metadata": {
        "id": "N2iSWVA_DtWO"
      },
      "source": [
        "# Fundamentos de Deep Learning con PyTorch"
      ]
    },
    {
      "cell_type": "markdown",
      "metadata": {
        "id": "oU7t5WcwDtWR"
      },
      "source": [
        "## MNIST"
      ]
    },
    {
      "cell_type": "markdown",
      "metadata": {
        "id": "nTgLqo2ADtWR"
      },
      "source": [
        "<img src=\"mnist.png\">"
      ]
    },
    {
      "cell_type": "code",
      "execution_count": null,
      "metadata": {
        "id": "7znWW-e8DtWS"
      },
      "outputs": [],
      "source": [
        "## Solo para probar el modelo ya entrenado, si se trata de ejecutar al inicio marcará error\n",
        "# image=sample_number()\n",
        "# _, class_is = loaded_model(image).max(1)\n",
        "# print(f'The predicted class is: {class_is[0]}')"
      ]
    },
    {
      "cell_type": "code",
      "execution_count": null,
      "metadata": {
        "id": "Tpt94oo_DtWV"
      },
      "outputs": [],
      "source": [
        ""
      ]
    },
    {
      "cell_type": "code",
      "execution_count": null,
      "metadata": {
        "id": "Y7_RTZHgDtWV"
      },
      "outputs": [],
      "source": [
        ""
      ]
    },
    {
      "cell_type": "markdown",
      "metadata": {
        "id": "XKIX7PhJDtWV"
      },
      "source": [
        "## Importar librerías"
      ]
    },
    {
      "cell_type": "code",
      "execution_count": null,
      "metadata": {
        "id": "V1ObQNB3DtWW"
      },
      "outputs": [],
      "source": [
        "# Para graficar\n",
        "import numpy as np\n",
        "import matplotlib.pyplot as plt\n",
        "%matplotlib inline\n",
        "# Las principales de PyTorch\n",
        "import torch\n",
        "import torch.nn as nn            #neural network\n",
        "import torch.nn.functional as F  #other functions for neural network\n",
        "# Otras más de PyTorch\n",
        "from torch.utils.data import DataLoader #Para dividir nuestros datos\n",
        "from torch.utils.data import sampler # Para muestrar datos\n",
        "import torchvision.datasets as dataset # Para importar DataSets\n",
        "import torchvision.transforms as T # Para aplicar transformaciones a nuestros datos, data augmentation\n",
        "# No es importante, sólo si tienen Jupyter Themes. Nothing to do with Deep Learning\n",
        "#from jupyterthemes import jtplot\n",
        "#jtplot.style()\n",
        "\n",
        "\n",
        "    "
      ]
    },
    {
      "cell_type": "markdown",
      "metadata": {
        "id": "Nl4lgEsxDtWW"
      },
      "source": [
        "## Importar MNIST Dataset"
      ]
    },
    {
      "cell_type": "code",
      "execution_count": null,
      "metadata": {
        "id": "lNy3cpuNDtWX"
      },
      "outputs": [],
      "source": [
        "NUM_TRAIN = 55000\n",
        "BATCH_SIZE = 512\n",
        "\n",
        "# Get our training, validation and test data.\n",
        "# data_path = '/media/josh/MyData/Databases/' #use your own data path, you may use an existing data path to avoid having to download the data again.\n",
        "data_path = '/media/josh/MyData/Databases/mnist'\n",
        "mnist_train = dataset.MNIST(data_path, train=True, download=True,\n",
        "                             transform=T.ToTensor())\n",
        "loader_train = DataLoader(mnist_train, batch_size=BATCH_SIZE, \n",
        "                          sampler=sampler.SubsetRandomSampler(range(NUM_TRAIN)))\n",
        "\n",
        "mnist_val = dataset.MNIST(data_path, train=True, download=True,\n",
        "                           transform=T.ToTensor())\n",
        "loader_val = DataLoader(mnist_val, batch_size=BATCH_SIZE, \n",
        "                        sampler=sampler.SubsetRandomSampler(range(NUM_TRAIN, 60000)))\n",
        "\n",
        "mnist_test = dataset.MNIST(data_path, train=False, download=True, \n",
        "                            transform=T.ToTensor())\n",
        "loader_test = DataLoader(mnist_test, batch_size=BATCH_SIZE)"
      ]
    },
    {
      "cell_type": "markdown",
      "metadata": {
        "id": "8D-YR7GGDtWX"
      },
      "source": [
        "### Cómo usar un DataLoader?\n",
        "\n",
        "Un [DataLoader](https://pytorch.org/docs/stable/data.html) de PyTorch es un objeto Iterable de Python, sobre nuestro Dataset!\n",
        "\n"
      ]
    },
    {
      "cell_type": "code",
      "execution_count": null,
      "metadata": {
        "id": "gDZN2VOiDtWY"
      },
      "outputs": [],
      "source": [
        "#len(y_test)"
      ]
    },
    {
      "cell_type": "code",
      "execution_count": null,
      "metadata": {
        "colab": {
          "base_uri": "https://localhost:8080/"
        },
        "id": "nKjXnciCDtWY",
        "outputId": "5ebfabcd-7624-45bb-8125-2f88e722b407"
      },
      "outputs": [
        {
          "output_type": "stream",
          "name": "stdout",
          "text": [
            "torch.Size([10000])\n",
            "torch.Size([10000, 28, 28])\n"
          ]
        }
      ],
      "source": [
        "y_test=loader_test.dataset.targets\n",
        "x_test=loader_test.dataset.data\n",
        "print(y_test.shape)\n",
        "print(x_test.shape)"
      ]
    },
    {
      "cell_type": "code",
      "execution_count": null,
      "metadata": {
        "colab": {
          "base_uri": "https://localhost:8080/"
        },
        "id": "F_2JFZsoDtWZ",
        "outputId": "fbfe7839-41ef-4aee-9ab8-30d45bc11678"
      },
      "outputs": [
        {
          "output_type": "stream",
          "name": "stdout",
          "text": [
            "0 X.shape is torch.Size([512, 1, 28, 28]), y.shape is torch.Size([512])\n",
            "1 X.shape is torch.Size([512, 1, 28, 28]), y.shape is torch.Size([512])\n",
            "2 X.shape is torch.Size([512, 1, 28, 28]), y.shape is torch.Size([512])\n",
            "3 X.shape is torch.Size([512, 1, 28, 28]), y.shape is torch.Size([512])\n",
            "4 X.shape is torch.Size([512, 1, 28, 28]), y.shape is torch.Size([512])\n",
            "5 X.shape is torch.Size([512, 1, 28, 28]), y.shape is torch.Size([512])\n",
            "6 X.shape is torch.Size([512, 1, 28, 28]), y.shape is torch.Size([512])\n",
            "7 X.shape is torch.Size([512, 1, 28, 28]), y.shape is torch.Size([512])\n",
            "8 X.shape is torch.Size([512, 1, 28, 28]), y.shape is torch.Size([512])\n",
            "9 X.shape is torch.Size([512, 1, 28, 28]), y.shape is torch.Size([512])\n",
            "10 X.shape is torch.Size([512, 1, 28, 28]), y.shape is torch.Size([512])\n",
            "11 X.shape is torch.Size([512, 1, 28, 28]), y.shape is torch.Size([512])\n",
            "12 X.shape is torch.Size([512, 1, 28, 28]), y.shape is torch.Size([512])\n",
            "13 X.shape is torch.Size([512, 1, 28, 28]), y.shape is torch.Size([512])\n",
            "14 X.shape is torch.Size([512, 1, 28, 28]), y.shape is torch.Size([512])\n",
            "15 X.shape is torch.Size([512, 1, 28, 28]), y.shape is torch.Size([512])\n",
            "16 X.shape is torch.Size([512, 1, 28, 28]), y.shape is torch.Size([512])\n",
            "17 X.shape is torch.Size([512, 1, 28, 28]), y.shape is torch.Size([512])\n",
            "18 X.shape is torch.Size([512, 1, 28, 28]), y.shape is torch.Size([512])\n",
            "19 X.shape is torch.Size([272, 1, 28, 28]), y.shape is torch.Size([272])\n"
          ]
        }
      ],
      "source": [
        "for it, (x, y) in enumerate(loader_test):\n",
        "    print(f'{it} X.shape is {x.shape}, y.shape is {y.shape}')"
      ]
    },
    {
      "cell_type": "code",
      "execution_count": null,
      "metadata": {
        "id": "-cnw7Wb1DtWZ"
      },
      "outputs": [],
      "source": [
        "input_features = len(torch.flatten(x_test[0]))\n",
        "input_features"
      ]
    },
    {
      "cell_type": "code",
      "execution_count": null,
      "metadata": {
        "id": "QVzWup9zDtWZ"
      },
      "outputs": [],
      "source": [
        "def plot_number(image):\n",
        "    #jtplot.style(grid=False)\n",
        "    plt.imshow(image.squeeze(), cmap=plt.get_cmap('gray'))\n",
        "    plt.show()\n",
        "    plt.axis('off')\n",
        "    #jtplot.style(grid=True)"
      ]
    },
    {
      "cell_type": "code",
      "execution_count": null,
      "metadata": {
        "id": "ZsVnmE32DtWa"
      },
      "outputs": [],
      "source": [
        "def plot_mnist_grid():\n",
        "    y_test=loader_test.dataset.targets\n",
        "    x_test=loader_test.dataset.data\n",
        "    samples = 8\n",
        "    plt.rcParams['figure.figsize'] = (15.0, 15.0) # set default size of plots\n",
        "    classes = ['0', '1', '2', '3', '4', '5', '6', '7', '8', '9']\n",
        "    for label, example in enumerate(classes):\n",
        "    #     random_idx = np.random.randint(0,len(mnist_test))\n",
        "        plt_idxs = np.flatnonzero(y_test == label) # get all data equal to label\n",
        "        plt_idxs = np.random.choice(plt_idxs, samples, replace=False) #muestrea samples muestras de plt_idx\n",
        "    #     print(plt_idxs)\n",
        "        for i, idx in enumerate(plt_idxs):\n",
        "            plt_idx = i*len(classes) + label + 1 #plot index starts at 1\n",
        "            plt.subplot(samples, len(classes), plt_idx)\n",
        "    #         print(example, i, plt_idx)\n",
        "    #         plt.imshow(x_test[idx].type(torch.float32).reshape(28,28))\n",
        "    #         plt.axis('off')\n",
        "            plot_number(x_test[idx])\n",
        "            if i == 0:\n",
        "                plt.title(example)\n",
        "\n",
        "    plt.show()\n",
        "plot_mnist_grid()"
      ]
    },
    {
      "cell_type": "code",
      "execution_count": null,
      "metadata": {
        "id": "AWPc2KVGDtWa"
      },
      "outputs": [],
      "source": [
        "rnd_idx = np.random.randint(len(y_test))\n",
        "print(f'La imagen muestreada representa un: {y_test[rnd_idx]}')\n",
        "plot_number(x_test[rnd_idx])"
      ]
    },
    {
      "cell_type": "markdown",
      "metadata": {
        "id": "NVBpUYhIDtWb"
      },
      "source": [
        "## GPUs"
      ]
    },
    {
      "cell_type": "code",
      "execution_count": null,
      "metadata": {
        "colab": {
          "base_uri": "https://localhost:8080/"
        },
        "id": "EZYv5KPiDtWb",
        "outputId": "db3d332a-6e45-4139-f61d-c293e02e535c"
      },
      "outputs": [
        {
          "output_type": "stream",
          "name": "stdout",
          "text": [
            "using device: cpu\n"
          ]
        }
      ],
      "source": [
        "dtype = torch.float32\n",
        "if torch.cuda.is_available():\n",
        "    device = torch.device('cuda')\n",
        "else:\n",
        "    device = torch.device('cpu')\n",
        "\n",
        "print('using device:', device)"
      ]
    },
    {
      "cell_type": "markdown",
      "metadata": {
        "id": "nJ43ZlwSDtWb"
      },
      "source": [
        "## Compute Accuracy"
      ]
    },
    {
      "cell_type": "code",
      "execution_count": null,
      "metadata": {
        "id": "fB3JgsivDtWc"
      },
      "outputs": [],
      "source": [
        "def compute_acc(loader, model, eval_mode=False):\n",
        "    num_correct = 0\n",
        "    num_total = 0\n",
        "    if eval_mode: model.eval()\n",
        "    with torch.no_grad():\n",
        "        for x, y in loader:\n",
        "            x = x.to(device=device, dtype=dtype)\n",
        "            y = y.to(device=device, dtype=torch.long)\n",
        "            scores = model(x)\n",
        "            _, pred = scores.max(1)\n",
        "            assert pred.shape == y.shape, 'Label shape and prediction shape does not match'\n",
        "            num_correct += (pred==y).sum()\n",
        "            num_total += pred.size(0)           \n",
        "            \n",
        "        return float(num_correct)/num_total"
      ]
    },
    {
      "cell_type": "markdown",
      "metadata": {
        "id": "YyGVUmEsDtWc"
      },
      "source": [
        "## High level model"
      ]
    },
    {
      "cell_type": "code",
      "execution_count": null,
      "metadata": {
        "id": "yXRSTmXSDtWc"
      },
      "outputs": [],
      "source": [
        "input_features = len(torch.flatten(x_test[0]))\n",
        "hidden = 1000\n",
        "num_classes = 10"
      ]
    },
    {
      "cell_type": "code",
      "execution_count": null,
      "metadata": {
        "id": "WFuw-e6tDtWd"
      },
      "outputs": [],
      "source": [
        "model1 = nn.Sequential(\n",
        "\n",
        "    )"
      ]
    },
    {
      "cell_type": "code",
      "execution_count": null,
      "metadata": {
        "id": "argwKpVcDtWd"
      },
      "outputs": [],
      "source": [
        "def plot_loss(losses):  \n",
        "    fig = plt.figure()\n",
        "    f1 = fig.add_subplot()\n",
        "    f1.set_ylabel(\"Cost\")\n",
        "    f1.set_xlabel(\"Epoch\")\n",
        "    f1.set_title(\"Cost vs Epoch\")\n",
        "    f1.plot(losses)\n",
        "    plt.show()\n",
        "    \n",
        "def train(model, optimizer, epochs=100):\n",
        "    model = model.to(device=device)\n",
        "    losses = []\n",
        "    \n",
        "    num_batches = len(loader_train)\n",
        "    for epoch in range(epochs):\n",
        "        accum_loss = 0.\n",
        "        for i, (x, y) in enumerate(loader_train):\n",
        "            #poner modelo en modo de entrenamiento\n",
        "            model.train()\n",
        "            #mover a GPU\n",
        "            x = x.to(device=device, dtype=dtype)\n",
        "            y = y.to(device=device, dtype=torch.long)\n",
        "            \n",
        "            #calcular scores\n",
        "\n",
        "            #calcular gradients\n",
        "\n",
        "            \n",
        "            #actualizar parametros\n",
        "\n",
        "            \n",
        "            #guardar pérdida\n",
        "            accum_loss += cost.item()\n",
        "        losses.append(accum_loss / num_batches)\n",
        "            \n",
        "        print(f'Epoch: {epoch}, loss: {cost.item()}, val accuracy: {compute_acc(loader_val, model, True)} ')\n",
        "        print()\n",
        "    plot_loss(losses)"
      ]
    },
    {
      "cell_type": "code",
      "execution_count": null,
      "metadata": {
        "id": "RsBxj4CgDtWd"
      },
      "outputs": [],
      "source": [
        "#entrenar el modelo\n",
        "learning_rate = 1e-2\n",
        "epochs = 10\n",
        "optimiser = torch.optim.SGD(model1.parameters(), lr=learning_rate)\n",
        "train(model1, optimiser, epochs)"
      ]
    },
    {
      "cell_type": "markdown",
      "metadata": {
        "id": "xDuj2S_gDtWe"
      },
      "source": [
        "## More elegant high level model"
      ]
    },
    {
      "cell_type": "code",
      "execution_count": null,
      "metadata": {
        "id": "aa9dlqxmDtWe"
      },
      "outputs": [],
      "source": [
        "class FC_model(nn.Module):\n",
        "    def __init__(self, input_features, hidden = 1000, num_classes=10):\n",
        "        super().__init__()\n",
        "#         self.model =\n",
        "    def forward(self, x):\n",
        "        None"
      ]
    },
    {
      "cell_type": "code",
      "execution_count": null,
      "metadata": {
        "id": "38v3ZvFeDtWe"
      },
      "outputs": [],
      "source": [
        "#Entrenar modelo\n",
        "input_features = len(torch.flatten(x_test[0]))\n",
        "hidden = 1000\n",
        "num_classes = 10\n",
        "learning_rate = 1e-2\n",
        "epochs = 10\n",
        "model2 = FC_model(input_features)\n",
        "optimiser = torch.optim.Adam(model2.parameters(), lr = learning_rate)\n",
        "# optimiser = torch.optim.SGD(model2.parameters(), lr = learning_rate)\n",
        "train(model2, optimiser, epochs)"
      ]
    },
    {
      "cell_type": "code",
      "execution_count": null,
      "metadata": {
        "id": "yD8R3JZ4DtWe"
      },
      "outputs": [],
      "source": [
        "compute_acc(loader_test, model2)"
      ]
    },
    {
      "cell_type": "markdown",
      "metadata": {
        "id": "R56AM5gODtWe"
      },
      "source": [
        "## Guardando el modelo"
      ]
    },
    {
      "cell_type": "code",
      "execution_count": null,
      "metadata": {
        "id": "1RoSRp5ADtWf"
      },
      "outputs": [],
      "source": [
        "model_path = '/media/josh/MyData/Databases/mnist/FC_model1st.pth'"
      ]
    },
    {
      "cell_type": "code",
      "execution_count": null,
      "metadata": {
        "id": "hDqDux7FDtWf"
      },
      "outputs": [],
      "source": [
        "torch.save(model2.state_dict(), model_path)"
      ]
    },
    {
      "cell_type": "code",
      "execution_count": null,
      "metadata": {
        "id": "kCq71ESfDtWf"
      },
      "outputs": [],
      "source": [
        "input_features = len(torch.flatten(x_test[0]))\n",
        "loaded_model = FC_model(input_features=input_features)\n",
        "loaded_model.load_state_dict(torch.load(model_path))\n",
        "loaded_model = loaded_model.to(device=device)\n",
        "loaded_model.eval()"
      ]
    },
    {
      "cell_type": "code",
      "execution_count": null,
      "metadata": {
        "id": "AOIM4jXNDtWf"
      },
      "outputs": [],
      "source": [
        "def sample_number():\n",
        "    rnd_idx = np.random.randint(10000)\n",
        "#     print(f'{y_test[rnd_idx]}')\n",
        "    image2 = x_test[rnd_idx][None, :,:]\n",
        "    plot_number(image2)\n",
        "    image2 = image2.type(torch.float32)\n",
        "    return image2.to(device=device)"
      ]
    },
    {
      "cell_type": "code",
      "execution_count": null,
      "metadata": {
        "id": "7ZHu3ZfcDtWg"
      },
      "outputs": [],
      "source": [
        "image=sample_number()\n",
        "_, class_is = loaded_model(image).max(1)\n",
        "print(f'The predicted class is: {class_is[0]}')"
      ]
    },
    {
      "cell_type": "code",
      "execution_count": null,
      "metadata": {
        "id": "NSyIqAddDtWg"
      },
      "outputs": [],
      "source": [
        ""
      ]
    },
    {
      "cell_type": "code",
      "execution_count": null,
      "metadata": {
        "id": "HGcKqvsfDtWg"
      },
      "outputs": [],
      "source": [
        ""
      ]
    },
    {
      "cell_type": "code",
      "execution_count": null,
      "metadata": {
        "id": "UpvycYXEDtWg"
      },
      "outputs": [],
      "source": [
        ""
      ]
    },
    {
      "cell_type": "code",
      "execution_count": null,
      "metadata": {
        "id": "N62wuiJsDtWg"
      },
      "outputs": [],
      "source": [
        ""
      ]
    },
    {
      "cell_type": "code",
      "execution_count": null,
      "metadata": {
        "id": "tZmErQzTDtWg"
      },
      "outputs": [],
      "source": [
        ""
      ]
    },
    {
      "cell_type": "code",
      "execution_count": null,
      "metadata": {
        "id": "vFa6LX4mDtWg"
      },
      "outputs": [],
      "source": [
        ""
      ]
    },
    {
      "cell_type": "code",
      "execution_count": null,
      "metadata": {
        "id": "nX0_OOWgDtWg"
      },
      "outputs": [],
      "source": [
        ""
      ]
    },
    {
      "cell_type": "markdown",
      "metadata": {
        "id": "j_F6eBDlDtWg"
      },
      "source": [
        "## Red Neuronal con módulos básicos"
      ]
    },
    {
      "cell_type": "code",
      "execution_count": null,
      "metadata": {
        "id": "Ix5tXoizDtWh"
      },
      "outputs": [],
      "source": [
        "def flatten(x):\n",
        "    N = x.shape[0]\n",
        "    return x.view(N, -1)"
      ]
    },
    {
      "cell_type": "code",
      "execution_count": null,
      "metadata": {
        "id": "2oByLsPmDtWh"
      },
      "outputs": [],
      "source": [
        "class FC_other():\n",
        "    def __init__(self, in_features, hidden=1000, num_classes = 10):\n",
        "        None\n",
        "        \n",
        "#     def forward(self, x):\n",
        "    def __call__(self, x):\n",
        "        None\n",
        "\n",
        "                "
      ]
    },
    {
      "cell_type": "code",
      "execution_count": null,
      "metadata": {
        "id": "rJ_TZnCpDtWh"
      },
      "outputs": [],
      "source": [
        "sample1 = x_test[0][None, :, :].to(device=device, dtype=dtype)"
      ]
    },
    {
      "cell_type": "code",
      "execution_count": null,
      "metadata": {
        "id": "R_NrqpTQDtWh"
      },
      "outputs": [],
      "source": [
        "input_features"
      ]
    },
    {
      "cell_type": "code",
      "execution_count": null,
      "metadata": {
        "id": "HC9cZykTDtWh"
      },
      "outputs": [],
      "source": [
        "hidden = 1000\n",
        "num_classes = 10\n",
        "model3 = FC_other(input_features, hidden, num_classes)\n",
        "# print(model3.forward(sample1).shape)\n",
        "print(model3(sample1).shape)"
      ]
    },
    {
      "cell_type": "code",
      "execution_count": null,
      "metadata": {
        "id": "cfEUfuG9DtWh"
      },
      "outputs": [],
      "source": [
        "def train_loop(model, epochs=10, learning_rate = 1e-6):\n",
        "#     model = model.to(device=device)\n",
        "    losses = []\n",
        "    num_batches = len(loader_train)\n",
        "    for epoch in range(epochs):\n",
        "        acum_loss = 0.\n",
        "        for it, (x, y) in enumerate(loader_train):\n",
        "            #Move to selected device\n",
        "            x=x.to(device=device, dtype=dtype)\n",
        "            y=y.to(device=device, dtype=torch.long)\n",
        "#             print(x.shape)\n",
        "            #compute scores\n",
        "#             scores = model.forward(x)\n",
        "            scores = model(x)\n",
        "            #compute cost\n",
        "            cost = F.cross_entropy(input=scores, target=y)\n",
        "            #compute gradient\n",
        "            cost.backward()\n",
        "            \n",
        "            #update parameters\n",
        "            with torch.no_grad():\n",
        "                model.W1 -= learning_rate * model.W1.grad\n",
        "                model.b1 -= learning_rate * model.b1.grad\n",
        "                \n",
        "                model.W2 -= learning_rate * model.W2.grad\n",
        "                model.b2 -= learning_rate * model.b2.grad\n",
        "                \n",
        "                #zero grads\n",
        "                model.W1.grad.zero_()\n",
        "                model.b1.grad.zero_()\n",
        "                model.W2.grad.zero_()\n",
        "                model.b2.grad.zero_()            \n",
        "            \n",
        "            acum_loss += cost.item()\n",
        "        losses.append(acum_loss/num_batches)\n",
        "        print(f'Epoch: {epoch}, loss: {cost.item()}, val accuracy: {compute_acc(loader_val, model)} ')\n",
        "        print()\n",
        "            "
      ]
    },
    {
      "cell_type": "code",
      "execution_count": null,
      "metadata": {
        "id": "Y73bQXHoDtWi"
      },
      "outputs": [],
      "source": [
        "learning_rate = 1e-2\n",
        "epochs = 20\n",
        "hidden = 1000\n",
        "num_classes = 10\n",
        "model_fc1 = FC_other(input_features, hidden, num_classes)\n",
        "# print(model_fc1.forward(x1).shape)\n",
        "\n",
        "train_loop(model_fc1, epochs, learning_rate)"
      ]
    },
    {
      "cell_type": "code",
      "execution_count": null,
      "metadata": {
        "id": "ynfodi3vDtWi"
      },
      "outputs": [],
      "source": [
        ""
      ]
    },
    {
      "cell_type": "code",
      "execution_count": null,
      "metadata": {
        "id": "alFMnXqUDtWi"
      },
      "outputs": [],
      "source": [
        ""
      ]
    },
    {
      "cell_type": "code",
      "execution_count": null,
      "metadata": {
        "id": "YK0HBbL0DtWi"
      },
      "outputs": [],
      "source": [
        ""
      ]
    },
    {
      "cell_type": "code",
      "execution_count": null,
      "metadata": {
        "id": "77b01WAbDtWi"
      },
      "outputs": [],
      "source": [
        ""
      ]
    },
    {
      "cell_type": "code",
      "execution_count": null,
      "metadata": {
        "id": "ZRggz7vNDtWi"
      },
      "outputs": [],
      "source": [
        ""
      ]
    },
    {
      "cell_type": "code",
      "execution_count": null,
      "metadata": {
        "id": "He51tapPDtWi"
      },
      "outputs": [],
      "source": [
        ""
      ]
    },
    {
      "cell_type": "code",
      "execution_count": null,
      "metadata": {
        "id": "EgLkwE5mDtWi"
      },
      "outputs": [],
      "source": [
        ""
      ]
    },
    {
      "cell_type": "code",
      "execution_count": null,
      "metadata": {
        "id": "nKPSOdV4DtWi"
      },
      "outputs": [],
      "source": [
        ""
      ]
    },
    {
      "cell_type": "code",
      "execution_count": null,
      "metadata": {
        "id": "1ryjhmtJDtWj"
      },
      "outputs": [],
      "source": [
        ""
      ]
    },
    {
      "cell_type": "code",
      "execution_count": null,
      "metadata": {
        "id": "bZ7jIq3dDtWj"
      },
      "outputs": [],
      "source": [
        ""
      ]
    },
    {
      "cell_type": "code",
      "execution_count": null,
      "metadata": {
        "id": "k6E_mafcDtWj"
      },
      "outputs": [],
      "source": [
        ""
      ]
    },
    {
      "cell_type": "code",
      "execution_count": null,
      "metadata": {
        "id": "xUPcO7n_DtWj"
      },
      "outputs": [],
      "source": [
        ""
      ]
    },
    {
      "cell_type": "code",
      "execution_count": null,
      "metadata": {
        "id": "eK43S5hrDtWj"
      },
      "outputs": [],
      "source": [
        ""
      ]
    },
    {
      "cell_type": "code",
      "execution_count": null,
      "metadata": {
        "id": "VAJaHsK5DtWj"
      },
      "outputs": [],
      "source": [
        ""
      ]
    },
    {
      "cell_type": "code",
      "execution_count": null,
      "metadata": {
        "id": "1F47FheyDtWj"
      },
      "outputs": [],
      "source": [
        ""
      ]
    }
  ],
  "metadata": {
    "kernelspec": {
      "display_name": "Python 3",
      "language": "python",
      "name": "python3"
    },
    "language_info": {
      "codemirror_mode": {
        "name": "ipython",
        "version": 3
      },
      "file_extension": ".py",
      "mimetype": "text/x-python",
      "name": "python",
      "nbconvert_exporter": "python",
      "pygments_lexer": "ipython3",
      "version": "3.8.3"
    },
    "varInspector": {
      "cols": {
        "lenName": 16,
        "lenType": 16,
        "lenVar": 40
      },
      "kernels_config": {
        "python": {
          "delete_cmd_postfix": "",
          "delete_cmd_prefix": "del ",
          "library": "var_list.py",
          "varRefreshCmd": "print(var_dic_list())"
        },
        "r": {
          "delete_cmd_postfix": ") ",
          "delete_cmd_prefix": "rm(",
          "library": "var_list.r",
          "varRefreshCmd": "cat(var_dic_list()) "
        }
      },
      "types_to_exclude": [
        "module",
        "function",
        "builtin_function_or_method",
        "instance",
        "_Feature"
      ],
      "window_display": false
    },
    "colab": {
      "name": "firstNotebook_workshop.ipynb",
      "provenance": [],
      "collapsed_sections": [
        "NVBpUYhIDtWb",
        "nJ43ZlwSDtWb",
        "YyGVUmEsDtWc",
        "xDuj2S_gDtWe",
        "R56AM5gODtWe",
        "j_F6eBDlDtWg"
      ],
      "include_colab_link": true
    }
  },
  "nbformat": 4,
  "nbformat_minor": 0
}